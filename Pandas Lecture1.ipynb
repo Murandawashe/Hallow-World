<html xmlns:v="urn:schemas-microsoft-com:vml"
xmlns:o="urn:schemas-microsoft-com:office:office"
xmlns:w="urn:schemas-microsoft-com:office:word"
xmlns:m="http://schemas.microsoft.com/office/2004/12/omml"
xmlns="http://www.w3.org/TR/REC-html40">

<head>
<meta http-equiv=Content-Type content="text/html; charset=windows-1252">
<meta name=ProgId content=Word.Document>
<meta name=Generator content="Microsoft Word 15">
<meta name=Originator content="Microsoft Word 15">
<link rel=File-List href="Pandas%20Lecture1_files/filelist.xml">
<!--[if gte mso 9]><xml>
 <o:DocumentProperties>
  <o:Author>Richard Phiri</o:Author>
  <o:Template>Normal</o:Template>
  <o:LastAuthor>Richard Phiri</o:LastAuthor>
  <o:Revision>3</o:Revision>
  <o:TotalTime>10</o:TotalTime>
  <o:Created>2021-05-31T19:09:00Z</o:Created>
  <o:LastSaved>2021-05-31T19:19:00Z</o:LastSaved>
  <o:Pages>1</o:Pages>
  <o:Words>9</o:Words>
  <o:Characters>54</o:Characters>
  <o:Lines>1</o:Lines>
  <o:Paragraphs>1</o:Paragraphs>
  <o:CharactersWithSpaces>62</o:CharactersWithSpaces>
  <o:Version>16.00</o:Version>
 </o:DocumentProperties>
 <o:OfficeDocumentSettings>
  <o:AllowPNG/>
 </o:OfficeDocumentSettings>
</xml><![endif]-->
<link rel=themeData href="Pandas%20Lecture1_files/themedata.thmx">
<link rel=colorSchemeMapping
href="Pandas%20Lecture1_files/colorschememapping.xml">
<!--[if gte mso 9]><xml>
 <w:WordDocument>
  <w:View>Print</w:View>
  <w:SpellingState>Clean</w:SpellingState>
  <w:GrammarState>Clean</w:GrammarState>
  <w:TrackMoves>false</w:TrackMoves>
  <w:TrackFormatting/>
  <w:ValidateAgainstSchemas/>
  <w:SaveIfXMLInvalid>false</w:SaveIfXMLInvalid>
  <w:IgnoreMixedContent>false</w:IgnoreMixedContent>
  <w:AlwaysShowPlaceholderText>false</w:AlwaysShowPlaceholderText>
  <w:DoNotPromoteQF/>
  <w:LidThemeOther>EN-ZW</w:LidThemeOther>
  <w:LidThemeAsian>X-NONE</w:LidThemeAsian>
  <w:LidThemeComplexScript>X-NONE</w:LidThemeComplexScript>
  <w:Compatibility>
   <w:BreakWrappedTables/>
   <w:SplitPgBreakAndParaMark/>
  </w:Compatibility>
  <m:mathPr>
   <m:mathFont m:val="Cambria Math"/>
   <m:brkBin m:val="before"/>
   <m:brkBinSub m:val="&#45;-"/>
   <m:smallFrac m:val="off"/>
   <m:dispDef/>
   <m:lMargin m:val="0"/>
   <m:rMargin m:val="0"/>
   <m:defJc m:val="centerGroup"/>
   <m:wrapIndent m:val="1440"/>
   <m:intLim m:val="subSup"/>
   <m:naryLim m:val="undOvr"/>
  </m:mathPr></w:WordDocument>
</xml><![endif]--><!--[if gte mso 9]><xml>
 <w:LatentStyles DefLockedState="false" DefUnhideWhenUsed="false"
  DefSemiHidden="false" DefQFormat="false" DefPriority="99"
  LatentStyleCount="376">
  <w:LsdException Locked="false" Priority="0" QFormat="true" Name="Normal"/>
  <w:LsdException Locked="false" Priority="9" QFormat="true" Name="heading 1"/>
  <w:LsdException Locked="false" Priority="9" SemiHidden="true"
   UnhideWhenUsed="true" QFormat="true" Name="heading 2"/>
  <w:LsdException Locked="false" Priority="9" SemiHidden="true"
   UnhideWhenUsed="true" QFormat="true" Name="heading 3"/>
  <w:LsdException Locked="false" Priority="9" SemiHidden="true"
   UnhideWhenUsed="true" QFormat="true" Name="heading 4"/>
  <w:LsdException Locked="false" Priority="9" SemiHidden="true"
   UnhideWhenUsed="true" QFormat="true" Name="heading 5"/>
  <w:LsdException Locked="false" Priority="9" SemiHidden="true"
   UnhideWhenUsed="true" QFormat="true" Name="heading 6"/>
  <w:LsdException Locked="false" Priority="9" SemiHidden="true"
   UnhideWhenUsed="true" QFormat="true" Name="heading 7"/>
  <w:LsdException Locked="false" Priority="9" SemiHidden="true"
   UnhideWhenUsed="true" QFormat="true" Name="heading 8"/>
  <w:LsdException Locked="false" Priority="9" SemiHidden="true"
   UnhideWhenUsed="true" QFormat="true" Name="heading 9"/>
  <w:LsdException Locked="false" SemiHidden="true" UnhideWhenUsed="true"
   Name="index 1"/>
  <w:LsdException Locked="false" SemiHidden="true" UnhideWhenUsed="true"
   Name="index 2"/>
  <w:LsdException Locked="false" SemiHidden="true" UnhideWhenUsed="true"
   Name="index 3"/>
  <w:LsdException Locked="false" SemiHidden="true" UnhideWhenUsed="true"
   Name="index 4"/>
  <w:LsdException Locked="false" SemiHidden="true" UnhideWhenUsed="true"
   Name="index 5"/>
  <w:LsdException Locked="false" SemiHidden="true" UnhideWhenUsed="true"
   Name="index 6"/>
  <w:LsdException Locked="false" SemiHidden="true" UnhideWhenUsed="true"
   Name="index 7"/>
  <w:LsdException Locked="false" SemiHidden="true" UnhideWhenUsed="true"
   Name="index 8"/>
  <w:LsdException Locked="false" SemiHidden="true" UnhideWhenUsed="true"
   Name="index 9"/>
  <w:LsdException Locked="false" Priority="39" SemiHidden="true"
   UnhideWhenUsed="true" Name="toc 1"/>
  <w:LsdException Locked="false" Priority="39" SemiHidden="true"
   UnhideWhenUsed="true" Name="toc 2"/>
  <w:LsdException Locked="false" Priority="39" SemiHidden="true"
   UnhideWhenUsed="true" Name="toc 3"/>
  <w:LsdException Locked="false" Priority="39" SemiHidden="true"
   UnhideWhenUsed="true" Name="toc 4"/>
  <w:LsdException Locked="false" Priority="39" SemiHidden="true"
   UnhideWhenUsed="true" Name="toc 5"/>
  <w:LsdException Locked="false" Priority="39" SemiHidden="true"
   UnhideWhenUsed="true" Name="toc 6"/>
  <w:LsdException Locked="false" Priority="39" SemiHidden="true"
   UnhideWhenUsed="true" Name="toc 7"/>
  <w:LsdException Locked="false" Priority="39" SemiHidden="true"
   UnhideWhenUsed="true" Name="toc 8"/>
  <w:LsdException Locked="false" Priority="39" SemiHidden="true"
   UnhideWhenUsed="true" Name="toc 9"/>
  <w:LsdException Locked="false" SemiHidden="true" UnhideWhenUsed="true"
   Name="Normal Indent"/>
  <w:LsdException Locked="false" SemiHidden="true" UnhideWhenUsed="true"
   Name="footnote text"/>
  <w:LsdException Locked="false" SemiHidden="true" UnhideWhenUsed="true"
   Name="annotation text"/>
  <w:LsdException Locked="false" SemiHidden="true" UnhideWhenUsed="true"
   Name="header"/>
  <w:LsdException Locked="false" SemiHidden="true" UnhideWhenUsed="true"
   Name="footer"/>
  <w:LsdException Locked="false" SemiHidden="true" UnhideWhenUsed="true"
   Name="index heading"/>
  <w:LsdException Locked="false" Priority="35" SemiHidden="true"
   UnhideWhenUsed="true" QFormat="true" Name="caption"/>
  <w:LsdException Locked="false" SemiHidden="true" UnhideWhenUsed="true"
   Name="table of figures"/>
  <w:LsdException Locked="false" SemiHidden="true" UnhideWhenUsed="true"
   Name="envelope address"/>
  <w:LsdException Locked="false" SemiHidden="true" UnhideWhenUsed="true"
   Name="envelope return"/>
  <w:LsdException Locked="false" SemiHidden="true" UnhideWhenUsed="true"
   Name="footnote reference"/>
  <w:LsdException Locked="false" SemiHidden="true" UnhideWhenUsed="true"
   Name="annotation reference"/>
  <w:LsdException Locked="false" SemiHidden="true" UnhideWhenUsed="true"
   Name="line number"/>
  <w:LsdException Locked="false" SemiHidden="true" UnhideWhenUsed="true"
   Name="page number"/>
  <w:LsdException Locked="false" SemiHidden="true" UnhideWhenUsed="true"
   Name="endnote reference"/>
  <w:LsdException Locked="false" SemiHidden="true" UnhideWhenUsed="true"
   Name="endnote text"/>
  <w:LsdException Locked="false" SemiHidden="true" UnhideWhenUsed="true"
   Name="table of authorities"/>
  <w:LsdException Locked="false" SemiHidden="true" UnhideWhenUsed="true"
   Name="macro"/>
  <w:LsdException Locked="false" SemiHidden="true" UnhideWhenUsed="true"
   Name="toa heading"/>
  <w:LsdException Locked="false" SemiHidden="true" UnhideWhenUsed="true"
   Name="List"/>
  <w:LsdException Locked="false" SemiHidden="true" UnhideWhenUsed="true"
   Name="List Bullet"/>
  <w:LsdException Locked="false" SemiHidden="true" UnhideWhenUsed="true"
   Name="List Number"/>
  <w:LsdException Locked="false" SemiHidden="true" UnhideWhenUsed="true"
   Name="List 2"/>
  <w:LsdException Locked="false" SemiHidden="true" UnhideWhenUsed="true"
   Name="List 3"/>
  <w:LsdException Locked="false" SemiHidden="true" UnhideWhenUsed="true"
   Name="List 4"/>
  <w:LsdException Locked="false" SemiHidden="true" UnhideWhenUsed="true"
   Name="List 5"/>
  <w:LsdException Locked="false" SemiHidden="true" UnhideWhenUsed="true"
   Name="List Bullet 2"/>
  <w:LsdException Locked="false" SemiHidden="true" UnhideWhenUsed="true"
   Name="List Bullet 3"/>
  <w:LsdException Locked="false" SemiHidden="true" UnhideWhenUsed="true"
   Name="List Bullet 4"/>
  <w:LsdException Locked="false" SemiHidden="true" UnhideWhenUsed="true"
   Name="List Bullet 5"/>
  <w:LsdException Locked="false" SemiHidden="true" UnhideWhenUsed="true"
   Name="List Number 2"/>
  <w:LsdException Locked="false" SemiHidden="true" UnhideWhenUsed="true"
   Name="List Number 3"/>
  <w:LsdException Locked="false" SemiHidden="true" UnhideWhenUsed="true"
   Name="List Number 4"/>
  <w:LsdException Locked="false" SemiHidden="true" UnhideWhenUsed="true"
   Name="List Number 5"/>
  <w:LsdException Locked="false" Priority="10" QFormat="true" Name="Title"/>
  <w:LsdException Locked="false" SemiHidden="true" UnhideWhenUsed="true"
   Name="Closing"/>
  <w:LsdException Locked="false" SemiHidden="true" UnhideWhenUsed="true"
   Name="Signature"/>
  <w:LsdException Locked="false" Priority="1" SemiHidden="true"
   UnhideWhenUsed="true" Name="Default Paragraph Font"/>
  <w:LsdException Locked="false" SemiHidden="true" UnhideWhenUsed="true"
   Name="Body Text"/>
  <w:LsdException Locked="false" SemiHidden="true" UnhideWhenUsed="true"
   Name="Body Text Indent"/>
  <w:LsdException Locked="false" SemiHidden="true" UnhideWhenUsed="true"
   Name="List Continue"/>
  <w:LsdException Locked="false" SemiHidden="true" UnhideWhenUsed="true"
   Name="List Continue 2"/>
  <w:LsdException Locked="false" SemiHidden="true" UnhideWhenUsed="true"
   Name="List Continue 3"/>
  <w:LsdException Locked="false" SemiHidden="true" UnhideWhenUsed="true"
   Name="List Continue 4"/>
  <w:LsdException Locked="false" SemiHidden="true" UnhideWhenUsed="true"
   Name="List Continue 5"/>
  <w:LsdException Locked="false" SemiHidden="true" UnhideWhenUsed="true"
   Name="Message Header"/>
  <w:LsdException Locked="false" Priority="11" QFormat="true" Name="Subtitle"/>
  <w:LsdException Locked="false" SemiHidden="true" UnhideWhenUsed="true"
   Name="Salutation"/>
  <w:LsdException Locked="false" SemiHidden="true" UnhideWhenUsed="true"
   Name="Date"/>
  <w:LsdException Locked="false" SemiHidden="true" UnhideWhenUsed="true"
   Name="Body Text First Indent"/>
  <w:LsdException Locked="false" SemiHidden="true" UnhideWhenUsed="true"
   Name="Body Text First Indent 2"/>
  <w:LsdException Locked="false" SemiHidden="true" UnhideWhenUsed="true"
   Name="Note Heading"/>
  <w:LsdException Locked="false" SemiHidden="true" UnhideWhenUsed="true"
   Name="Body Text 2"/>
  <w:LsdException Locked="false" SemiHidden="true" UnhideWhenUsed="true"
   Name="Body Text 3"/>
  <w:LsdException Locked="false" SemiHidden="true" UnhideWhenUsed="true"
   Name="Body Text Indent 2"/>
  <w:LsdException Locked="false" SemiHidden="true" UnhideWhenUsed="true"
   Name="Body Text Indent 3"/>
  <w:LsdException Locked="false" SemiHidden="true" UnhideWhenUsed="true"
   Name="Block Text"/>
  <w:LsdException Locked="false" SemiHidden="true" UnhideWhenUsed="true"
   Name="Hyperlink"/>
  <w:LsdException Locked="false" SemiHidden="true" UnhideWhenUsed="true"
   Name="FollowedHyperlink"/>
  <w:LsdException Locked="false" Priority="22" QFormat="true" Name="Strong"/>
  <w:LsdException Locked="false" Priority="20" QFormat="true" Name="Emphasis"/>
  <w:LsdException Locked="false" SemiHidden="true" UnhideWhenUsed="true"
   Name="Document Map"/>
  <w:LsdException Locked="false" SemiHidden="true" UnhideWhenUsed="true"
   Name="Plain Text"/>
  <w:LsdException Locked="false" SemiHidden="true" UnhideWhenUsed="true"
   Name="E-mail Signature"/>
  <w:LsdException Locked="false" SemiHidden="true" UnhideWhenUsed="true"
   Name="HTML Top of Form"/>
  <w:LsdException Locked="false" SemiHidden="true" UnhideWhenUsed="true"
   Name="HTML Bottom of Form"/>
  <w:LsdException Locked="false" SemiHidden="true" UnhideWhenUsed="true"
   Name="Normal (Web)"/>
  <w:LsdException Locked="false" SemiHidden="true" UnhideWhenUsed="true"
   Name="HTML Acronym"/>
  <w:LsdException Locked="false" SemiHidden="true" UnhideWhenUsed="true"
   Name="HTML Address"/>
  <w:LsdException Locked="false" SemiHidden="true" UnhideWhenUsed="true"
   Name="HTML Cite"/>
  <w:LsdException Locked="false" SemiHidden="true" UnhideWhenUsed="true"
   Name="HTML Code"/>
  <w:LsdException Locked="false" SemiHidden="true" UnhideWhenUsed="true"
   Name="HTML Definition"/>
  <w:LsdException Locked="false" SemiHidden="true" UnhideWhenUsed="true"
   Name="HTML Keyboard"/>
  <w:LsdException Locked="false" SemiHidden="true" UnhideWhenUsed="true"
   Name="HTML Preformatted"/>
  <w:LsdException Locked="false" SemiHidden="true" UnhideWhenUsed="true"
   Name="HTML Sample"/>
  <w:LsdException Locked="false" SemiHidden="true" UnhideWhenUsed="true"
   Name="HTML Typewriter"/>
  <w:LsdException Locked="false" SemiHidden="true" UnhideWhenUsed="true"
   Name="HTML Variable"/>
  <w:LsdException Locked="false" SemiHidden="true" UnhideWhenUsed="true"
   Name="Normal Table"/>
  <w:LsdException Locked="false" SemiHidden="true" UnhideWhenUsed="true"
   Name="annotation subject"/>
  <w:LsdException Locked="false" SemiHidden="true" UnhideWhenUsed="true"
   Name="No List"/>
  <w:LsdException Locked="false" SemiHidden="true" UnhideWhenUsed="true"
   Name="Outline List 1"/>
  <w:LsdException Locked="false" SemiHidden="true" UnhideWhenUsed="true"
   Name="Outline List 2"/>
  <w:LsdException Locked="false" SemiHidden="true" UnhideWhenUsed="true"
   Name="Outline List 3"/>
  <w:LsdException Locked="false" SemiHidden="true" UnhideWhenUsed="true"
   Name="Table Simple 1"/>
  <w:LsdException Locked="false" SemiHidden="true" UnhideWhenUsed="true"
   Name="Table Simple 2"/>
  <w:LsdException Locked="false" SemiHidden="true" UnhideWhenUsed="true"
   Name="Table Simple 3"/>
  <w:LsdException Locked="false" SemiHidden="true" UnhideWhenUsed="true"
   Name="Table Classic 1"/>
  <w:LsdException Locked="false" SemiHidden="true" UnhideWhenUsed="true"
   Name="Table Classic 2"/>
  <w:LsdException Locked="false" SemiHidden="true" UnhideWhenUsed="true"
   Name="Table Classic 3"/>
  <w:LsdException Locked="false" SemiHidden="true" UnhideWhenUsed="true"
   Name="Table Classic 4"/>
  <w:LsdException Locked="false" SemiHidden="true" UnhideWhenUsed="true"
   Name="Table Colorful 1"/>
  <w:LsdException Locked="false" SemiHidden="true" UnhideWhenUsed="true"
   Name="Table Colorful 2"/>
  <w:LsdException Locked="false" SemiHidden="true" UnhideWhenUsed="true"
   Name="Table Colorful 3"/>
  <w:LsdException Locked="false" SemiHidden="true" UnhideWhenUsed="true"
   Name="Table Columns 1"/>
  <w:LsdException Locked="false" SemiHidden="true" UnhideWhenUsed="true"
   Name="Table Columns 2"/>
  <w:LsdException Locked="false" SemiHidden="true" UnhideWhenUsed="true"
   Name="Table Columns 3"/>
  <w:LsdException Locked="false" SemiHidden="true" UnhideWhenUsed="true"
   Name="Table Columns 4"/>
  <w:LsdException Locked="false" SemiHidden="true" UnhideWhenUsed="true"
   Name="Table Columns 5"/>
  <w:LsdException Locked="false" SemiHidden="true" UnhideWhenUsed="true"
   Name="Table Grid 1"/>
  <w:LsdException Locked="false" SemiHidden="true" UnhideWhenUsed="true"
   Name="Table Grid 2"/>
  <w:LsdException Locked="false" SemiHidden="true" UnhideWhenUsed="true"
   Name="Table Grid 3"/>
  <w:LsdException Locked="false" SemiHidden="true" UnhideWhenUsed="true"
   Name="Table Grid 4"/>
  <w:LsdException Locked="false" SemiHidden="true" UnhideWhenUsed="true"
   Name="Table Grid 5"/>
  <w:LsdException Locked="false" SemiHidden="true" UnhideWhenUsed="true"
   Name="Table Grid 6"/>
  <w:LsdException Locked="false" SemiHidden="true" UnhideWhenUsed="true"
   Name="Table Grid 7"/>
  <w:LsdException Locked="false" SemiHidden="true" UnhideWhenUsed="true"
   Name="Table Grid 8"/>
  <w:LsdException Locked="false" SemiHidden="true" UnhideWhenUsed="true"
   Name="Table List 1"/>
  <w:LsdException Locked="false" SemiHidden="true" UnhideWhenUsed="true"
   Name="Table List 2"/>
  <w:LsdException Locked="false" SemiHidden="true" UnhideWhenUsed="true"
   Name="Table List 3"/>
  <w:LsdException Locked="false" SemiHidden="true" UnhideWhenUsed="true"
   Name="Table List 4"/>
  <w:LsdException Locked="false" SemiHidden="true" UnhideWhenUsed="true"
   Name="Table List 5"/>
  <w:LsdException Locked="false" SemiHidden="true" UnhideWhenUsed="true"
   Name="Table List 6"/>
  <w:LsdException Locked="false" SemiHidden="true" UnhideWhenUsed="true"
   Name="Table List 7"/>
  <w:LsdException Locked="false" SemiHidden="true" UnhideWhenUsed="true"
   Name="Table List 8"/>
  <w:LsdException Locked="false" SemiHidden="true" UnhideWhenUsed="true"
   Name="Table 3D effects 1"/>
  <w:LsdException Locked="false" SemiHidden="true" UnhideWhenUsed="true"
   Name="Table 3D effects 2"/>
  <w:LsdException Locked="false" SemiHidden="true" UnhideWhenUsed="true"
   Name="Table 3D effects 3"/>
  <w:LsdException Locked="false" SemiHidden="true" UnhideWhenUsed="true"
   Name="Table Contemporary"/>
  <w:LsdException Locked="false" SemiHidden="true" UnhideWhenUsed="true"
   Name="Table Elegant"/>
  <w:LsdException Locked="false" SemiHidden="true" UnhideWhenUsed="true"
   Name="Table Professional"/>
  <w:LsdException Locked="false" SemiHidden="true" UnhideWhenUsed="true"
   Name="Table Subtle 1"/>
  <w:LsdException Locked="false" SemiHidden="true" UnhideWhenUsed="true"
   Name="Table Subtle 2"/>
  <w:LsdException Locked="false" SemiHidden="true" UnhideWhenUsed="true"
   Name="Table Web 1"/>
  <w:LsdException Locked="false" SemiHidden="true" UnhideWhenUsed="true"
   Name="Table Web 2"/>
  <w:LsdException Locked="false" SemiHidden="true" UnhideWhenUsed="true"
   Name="Table Web 3"/>
  <w:LsdException Locked="false" SemiHidden="true" UnhideWhenUsed="true"
   Name="Balloon Text"/>
  <w:LsdException Locked="false" Priority="39" Name="Table Grid"/>
  <w:LsdException Locked="false" SemiHidden="true" UnhideWhenUsed="true"
   Name="Table Theme"/>
  <w:LsdException Locked="false" SemiHidden="true" Name="Placeholder Text"/>
  <w:LsdException Locked="false" Priority="1" QFormat="true" Name="No Spacing"/>
  <w:LsdException Locked="false" Priority="60" Name="Light Shading"/>
  <w:LsdException Locked="false" Priority="61" Name="Light List"/>
  <w:LsdException Locked="false" Priority="62" Name="Light Grid"/>
  <w:LsdException Locked="false" Priority="63" Name="Medium Shading 1"/>
  <w:LsdException Locked="false" Priority="64" Name="Medium Shading 2"/>
  <w:LsdException Locked="false" Priority="65" Name="Medium List 1"/>
  <w:LsdException Locked="false" Priority="66" Name="Medium List 2"/>
  <w:LsdException Locked="false" Priority="67" Name="Medium Grid 1"/>
  <w:LsdException Locked="false" Priority="68" Name="Medium Grid 2"/>
  <w:LsdException Locked="false" Priority="69" Name="Medium Grid 3"/>
  <w:LsdException Locked="false" Priority="70" Name="Dark List"/>
  <w:LsdException Locked="false" Priority="71" Name="Colorful Shading"/>
  <w:LsdException Locked="false" Priority="72" Name="Colorful List"/>
  <w:LsdException Locked="false" Priority="73" Name="Colorful Grid"/>
  <w:LsdException Locked="false" Priority="60" Name="Light Shading Accent 1"/>
  <w:LsdException Locked="false" Priority="61" Name="Light List Accent 1"/>
  <w:LsdException Locked="false" Priority="62" Name="Light Grid Accent 1"/>
  <w:LsdException Locked="false" Priority="63" Name="Medium Shading 1 Accent 1"/>
  <w:LsdException Locked="false" Priority="64" Name="Medium Shading 2 Accent 1"/>
  <w:LsdException Locked="false" Priority="65" Name="Medium List 1 Accent 1"/>
  <w:LsdException Locked="false" SemiHidden="true" Name="Revision"/>
  <w:LsdException Locked="false" Priority="34" QFormat="true"
   Name="List Paragraph"/>
  <w:LsdException Locked="false" Priority="29" QFormat="true" Name="Quote"/>
  <w:LsdException Locked="false" Priority="30" QFormat="true"
   Name="Intense Quote"/>
  <w:LsdException Locked="false" Priority="66" Name="Medium List 2 Accent 1"/>
  <w:LsdException Locked="false" Priority="67" Name="Medium Grid 1 Accent 1"/>
  <w:LsdException Locked="false" Priority="68" Name="Medium Grid 2 Accent 1"/>
  <w:LsdException Locked="false" Priority="69" Name="Medium Grid 3 Accent 1"/>
  <w:LsdException Locked="false" Priority="70" Name="Dark List Accent 1"/>
  <w:LsdException Locked="false" Priority="71" Name="Colorful Shading Accent 1"/>
  <w:LsdException Locked="false" Priority="72" Name="Colorful List Accent 1"/>
  <w:LsdException Locked="false" Priority="73" Name="Colorful Grid Accent 1"/>
  <w:LsdException Locked="false" Priority="60" Name="Light Shading Accent 2"/>
  <w:LsdException Locked="false" Priority="61" Name="Light List Accent 2"/>
  <w:LsdException Locked="false" Priority="62" Name="Light Grid Accent 2"/>
  <w:LsdException Locked="false" Priority="63" Name="Medium Shading 1 Accent 2"/>
  <w:LsdException Locked="false" Priority="64" Name="Medium Shading 2 Accent 2"/>
  <w:LsdException Locked="false" Priority="65" Name="Medium List 1 Accent 2"/>
  <w:LsdException Locked="false" Priority="66" Name="Medium List 2 Accent 2"/>
  <w:LsdException Locked="false" Priority="67" Name="Medium Grid 1 Accent 2"/>
  <w:LsdException Locked="false" Priority="68" Name="Medium Grid 2 Accent 2"/>
  <w:LsdException Locked="false" Priority="69" Name="Medium Grid 3 Accent 2"/>
  <w:LsdException Locked="false" Priority="70" Name="Dark List Accent 2"/>
  <w:LsdException Locked="false" Priority="71" Name="Colorful Shading Accent 2"/>
  <w:LsdException Locked="false" Priority="72" Name="Colorful List Accent 2"/>
  <w:LsdException Locked="false" Priority="73" Name="Colorful Grid Accent 2"/>
  <w:LsdException Locked="false" Priority="60" Name="Light Shading Accent 3"/>
  <w:LsdException Locked="false" Priority="61" Name="Light List Accent 3"/>
  <w:LsdException Locked="false" Priority="62" Name="Light Grid Accent 3"/>
  <w:LsdException Locked="false" Priority="63" Name="Medium Shading 1 Accent 3"/>
  <w:LsdException Locked="false" Priority="64" Name="Medium Shading 2 Accent 3"/>
  <w:LsdException Locked="false" Priority="65" Name="Medium List 1 Accent 3"/>
  <w:LsdException Locked="false" Priority="66" Name="Medium List 2 Accent 3"/>
  <w:LsdException Locked="false" Priority="67" Name="Medium Grid 1 Accent 3"/>
  <w:LsdException Locked="false" Priority="68" Name="Medium Grid 2 Accent 3"/>
  <w:LsdException Locked="false" Priority="69" Name="Medium Grid 3 Accent 3"/>
  <w:LsdException Locked="false" Priority="70" Name="Dark List Accent 3"/>
  <w:LsdException Locked="false" Priority="71" Name="Colorful Shading Accent 3"/>
  <w:LsdException Locked="false" Priority="72" Name="Colorful List Accent 3"/>
  <w:LsdException Locked="false" Priority="73" Name="Colorful Grid Accent 3"/>
  <w:LsdException Locked="false" Priority="60" Name="Light Shading Accent 4"/>
  <w:LsdException Locked="false" Priority="61" Name="Light List Accent 4"/>
  <w:LsdException Locked="false" Priority="62" Name="Light Grid Accent 4"/>
  <w:LsdException Locked="false" Priority="63" Name="Medium Shading 1 Accent 4"/>
  <w:LsdException Locked="false" Priority="64" Name="Medium Shading 2 Accent 4"/>
  <w:LsdException Locked="false" Priority="65" Name="Medium List 1 Accent 4"/>
  <w:LsdException Locked="false" Priority="66" Name="Medium List 2 Accent 4"/>
  <w:LsdException Locked="false" Priority="67" Name="Medium Grid 1 Accent 4"/>
  <w:LsdException Locked="false" Priority="68" Name="Medium Grid 2 Accent 4"/>
  <w:LsdException Locked="false" Priority="69" Name="Medium Grid 3 Accent 4"/>
  <w:LsdException Locked="false" Priority="70" Name="Dark List Accent 4"/>
  <w:LsdException Locked="false" Priority="71" Name="Colorful Shading Accent 4"/>
  <w:LsdException Locked="false" Priority="72" Name="Colorful List Accent 4"/>
  <w:LsdException Locked="false" Priority="73" Name="Colorful Grid Accent 4"/>
  <w:LsdException Locked="false" Priority="60" Name="Light Shading Accent 5"/>
  <w:LsdException Locked="false" Priority="61" Name="Light List Accent 5"/>
  <w:LsdException Locked="false" Priority="62" Name="Light Grid Accent 5"/>
  <w:LsdException Locked="false" Priority="63" Name="Medium Shading 1 Accent 5"/>
  <w:LsdException Locked="false" Priority="64" Name="Medium Shading 2 Accent 5"/>
  <w:LsdException Locked="false" Priority="65" Name="Medium List 1 Accent 5"/>
  <w:LsdException Locked="false" Priority="66" Name="Medium List 2 Accent 5"/>
  <w:LsdException Locked="false" Priority="67" Name="Medium Grid 1 Accent 5"/>
  <w:LsdException Locked="false" Priority="68" Name="Medium Grid 2 Accent 5"/>
  <w:LsdException Locked="false" Priority="69" Name="Medium Grid 3 Accent 5"/>
  <w:LsdException Locked="false" Priority="70" Name="Dark List Accent 5"/>
  <w:LsdException Locked="false" Priority="71" Name="Colorful Shading Accent 5"/>
  <w:LsdException Locked="false" Priority="72" Name="Colorful List Accent 5"/>
  <w:LsdException Locked="false" Priority="73" Name="Colorful Grid Accent 5"/>
  <w:LsdException Locked="false" Priority="60" Name="Light Shading Accent 6"/>
  <w:LsdException Locked="false" Priority="61" Name="Light List Accent 6"/>
  <w:LsdException Locked="false" Priority="62" Name="Light Grid Accent 6"/>
  <w:LsdException Locked="false" Priority="63" Name="Medium Shading 1 Accent 6"/>
  <w:LsdException Locked="false" Priority="64" Name="Medium Shading 2 Accent 6"/>
  <w:LsdException Locked="false" Priority="65" Name="Medium List 1 Accent 6"/>
  <w:LsdException Locked="false" Priority="66" Name="Medium List 2 Accent 6"/>
  <w:LsdException Locked="false" Priority="67" Name="Medium Grid 1 Accent 6"/>
  <w:LsdException Locked="false" Priority="68" Name="Medium Grid 2 Accent 6"/>
  <w:LsdException Locked="false" Priority="69" Name="Medium Grid 3 Accent 6"/>
  <w:LsdException Locked="false" Priority="70" Name="Dark List Accent 6"/>
  <w:LsdException Locked="false" Priority="71" Name="Colorful Shading Accent 6"/>
  <w:LsdException Locked="false" Priority="72" Name="Colorful List Accent 6"/>
  <w:LsdException Locked="false" Priority="73" Name="Colorful Grid Accent 6"/>
  <w:LsdException Locked="false" Priority="19" QFormat="true"
   Name="Subtle Emphasis"/>
  <w:LsdException Locked="false" Priority="21" QFormat="true"
   Name="Intense Emphasis"/>
  <w:LsdException Locked="false" Priority="31" QFormat="true"
   Name="Subtle Reference"/>
  <w:LsdException Locked="false" Priority="32" QFormat="true"
   Name="Intense Reference"/>
  <w:LsdException Locked="false" Priority="33" QFormat="true" Name="Book Title"/>
  <w:LsdException Locked="false" Priority="37" SemiHidden="true"
   UnhideWhenUsed="true" Name="Bibliography"/>
  <w:LsdException Locked="false" Priority="39" SemiHidden="true"
   UnhideWhenUsed="true" QFormat="true" Name="TOC Heading"/>
  <w:LsdException Locked="false" Priority="41" Name="Plain Table 1"/>
  <w:LsdException Locked="false" Priority="42" Name="Plain Table 2"/>
  <w:LsdException Locked="false" Priority="43" Name="Plain Table 3"/>
  <w:LsdException Locked="false" Priority="44" Name="Plain Table 4"/>
  <w:LsdException Locked="false" Priority="45" Name="Plain Table 5"/>
  <w:LsdException Locked="false" Priority="40" Name="Grid Table Light"/>
  <w:LsdException Locked="false" Priority="46" Name="Grid Table 1 Light"/>
  <w:LsdException Locked="false" Priority="47" Name="Grid Table 2"/>
  <w:LsdException Locked="false" Priority="48" Name="Grid Table 3"/>
  <w:LsdException Locked="false" Priority="49" Name="Grid Table 4"/>
  <w:LsdException Locked="false" Priority="50" Name="Grid Table 5 Dark"/>
  <w:LsdException Locked="false" Priority="51" Name="Grid Table 6 Colorful"/>
  <w:LsdException Locked="false" Priority="52" Name="Grid Table 7 Colorful"/>
  <w:LsdException Locked="false" Priority="46"
   Name="Grid Table 1 Light Accent 1"/>
  <w:LsdException Locked="false" Priority="47" Name="Grid Table 2 Accent 1"/>
  <w:LsdException Locked="false" Priority="48" Name="Grid Table 3 Accent 1"/>
  <w:LsdException Locked="false" Priority="49" Name="Grid Table 4 Accent 1"/>
  <w:LsdException Locked="false" Priority="50" Name="Grid Table 5 Dark Accent 1"/>
  <w:LsdException Locked="false" Priority="51"
   Name="Grid Table 6 Colorful Accent 1"/>
  <w:LsdException Locked="false" Priority="52"
   Name="Grid Table 7 Colorful Accent 1"/>
  <w:LsdException Locked="false" Priority="46"
   Name="Grid Table 1 Light Accent 2"/>
  <w:LsdException Locked="false" Priority="47" Name="Grid Table 2 Accent 2"/>
  <w:LsdException Locked="false" Priority="48" Name="Grid Table 3 Accent 2"/>
  <w:LsdException Locked="false" Priority="49" Name="Grid Table 4 Accent 2"/>
  <w:LsdException Locked="false" Priority="50" Name="Grid Table 5 Dark Accent 2"/>
  <w:LsdException Locked="false" Priority="51"
   Name="Grid Table 6 Colorful Accent 2"/>
  <w:LsdException Locked="false" Priority="52"
   Name="Grid Table 7 Colorful Accent 2"/>
  <w:LsdException Locked="false" Priority="46"
   Name="Grid Table 1 Light Accent 3"/>
  <w:LsdException Locked="false" Priority="47" Name="Grid Table 2 Accent 3"/>
  <w:LsdException Locked="false" Priority="48" Name="Grid Table 3 Accent 3"/>
  <w:LsdException Locked="false" Priority="49" Name="Grid Table 4 Accent 3"/>
  <w:LsdException Locked="false" Priority="50" Name="Grid Table 5 Dark Accent 3"/>
  <w:LsdException Locked="false" Priority="51"
   Name="Grid Table 6 Colorful Accent 3"/>
  <w:LsdException Locked="false" Priority="52"
   Name="Grid Table 7 Colorful Accent 3"/>
  <w:LsdException Locked="false" Priority="46"
   Name="Grid Table 1 Light Accent 4"/>
  <w:LsdException Locked="false" Priority="47" Name="Grid Table 2 Accent 4"/>
  <w:LsdException Locked="false" Priority="48" Name="Grid Table 3 Accent 4"/>
  <w:LsdException Locked="false" Priority="49" Name="Grid Table 4 Accent 4"/>
  <w:LsdException Locked="false" Priority="50" Name="Grid Table 5 Dark Accent 4"/>
  <w:LsdException Locked="false" Priority="51"
   Name="Grid Table 6 Colorful Accent 4"/>
  <w:LsdException Locked="false" Priority="52"
   Name="Grid Table 7 Colorful Accent 4"/>
  <w:LsdException Locked="false" Priority="46"
   Name="Grid Table 1 Light Accent 5"/>
  <w:LsdException Locked="false" Priority="47" Name="Grid Table 2 Accent 5"/>
  <w:LsdException Locked="false" Priority="48" Name="Grid Table 3 Accent 5"/>
  <w:LsdException Locked="false" Priority="49" Name="Grid Table 4 Accent 5"/>
  <w:LsdException Locked="false" Priority="50" Name="Grid Table 5 Dark Accent 5"/>
  <w:LsdException Locked="false" Priority="51"
   Name="Grid Table 6 Colorful Accent 5"/>
  <w:LsdException Locked="false" Priority="52"
   Name="Grid Table 7 Colorful Accent 5"/>
  <w:LsdException Locked="false" Priority="46"
   Name="Grid Table 1 Light Accent 6"/>
  <w:LsdException Locked="false" Priority="47" Name="Grid Table 2 Accent 6"/>
  <w:LsdException Locked="false" Priority="48" Name="Grid Table 3 Accent 6"/>
  <w:LsdException Locked="false" Priority="49" Name="Grid Table 4 Accent 6"/>
  <w:LsdException Locked="false" Priority="50" Name="Grid Table 5 Dark Accent 6"/>
  <w:LsdException Locked="false" Priority="51"
   Name="Grid Table 6 Colorful Accent 6"/>
  <w:LsdException Locked="false" Priority="52"
   Name="Grid Table 7 Colorful Accent 6"/>
  <w:LsdException Locked="false" Priority="46" Name="List Table 1 Light"/>
  <w:LsdException Locked="false" Priority="47" Name="List Table 2"/>
  <w:LsdException Locked="false" Priority="48" Name="List Table 3"/>
  <w:LsdException Locked="false" Priority="49" Name="List Table 4"/>
  <w:LsdException Locked="false" Priority="50" Name="List Table 5 Dark"/>
  <w:LsdException Locked="false" Priority="51" Name="List Table 6 Colorful"/>
  <w:LsdException Locked="false" Priority="52" Name="List Table 7 Colorful"/>
  <w:LsdException Locked="false" Priority="46"
   Name="List Table 1 Light Accent 1"/>
  <w:LsdException Locked="false" Priority="47" Name="List Table 2 Accent 1"/>
  <w:LsdException Locked="false" Priority="48" Name="List Table 3 Accent 1"/>
  <w:LsdException Locked="false" Priority="49" Name="List Table 4 Accent 1"/>
  <w:LsdException Locked="false" Priority="50" Name="List Table 5 Dark Accent 1"/>
  <w:LsdException Locked="false" Priority="51"
   Name="List Table 6 Colorful Accent 1"/>
  <w:LsdException Locked="false" Priority="52"
   Name="List Table 7 Colorful Accent 1"/>
  <w:LsdException Locked="false" Priority="46"
   Name="List Table 1 Light Accent 2"/>
  <w:LsdException Locked="false" Priority="47" Name="List Table 2 Accent 2"/>
  <w:LsdException Locked="false" Priority="48" Name="List Table 3 Accent 2"/>
  <w:LsdException Locked="false" Priority="49" Name="List Table 4 Accent 2"/>
  <w:LsdException Locked="false" Priority="50" Name="List Table 5 Dark Accent 2"/>
  <w:LsdException Locked="false" Priority="51"
   Name="List Table 6 Colorful Accent 2"/>
  <w:LsdException Locked="false" Priority="52"
   Name="List Table 7 Colorful Accent 2"/>
  <w:LsdException Locked="false" Priority="46"
   Name="List Table 1 Light Accent 3"/>
  <w:LsdException Locked="false" Priority="47" Name="List Table 2 Accent 3"/>
  <w:LsdException Locked="false" Priority="48" Name="List Table 3 Accent 3"/>
  <w:LsdException Locked="false" Priority="49" Name="List Table 4 Accent 3"/>
  <w:LsdException Locked="false" Priority="50" Name="List Table 5 Dark Accent 3"/>
  <w:LsdException Locked="false" Priority="51"
   Name="List Table 6 Colorful Accent 3"/>
  <w:LsdException Locked="false" Priority="52"
   Name="List Table 7 Colorful Accent 3"/>
  <w:LsdException Locked="false" Priority="46"
   Name="List Table 1 Light Accent 4"/>
  <w:LsdException Locked="false" Priority="47" Name="List Table 2 Accent 4"/>
  <w:LsdException Locked="false" Priority="48" Name="List Table 3 Accent 4"/>
  <w:LsdException Locked="false" Priority="49" Name="List Table 4 Accent 4"/>
  <w:LsdException Locked="false" Priority="50" Name="List Table 5 Dark Accent 4"/>
  <w:LsdException Locked="false" Priority="51"
   Name="List Table 6 Colorful Accent 4"/>
  <w:LsdException Locked="false" Priority="52"
   Name="List Table 7 Colorful Accent 4"/>
  <w:LsdException Locked="false" Priority="46"
   Name="List Table 1 Light Accent 5"/>
  <w:LsdException Locked="false" Priority="47" Name="List Table 2 Accent 5"/>
  <w:LsdException Locked="false" Priority="48" Name="List Table 3 Accent 5"/>
  <w:LsdException Locked="false" Priority="49" Name="List Table 4 Accent 5"/>
  <w:LsdException Locked="false" Priority="50" Name="List Table 5 Dark Accent 5"/>
  <w:LsdException Locked="false" Priority="51"
   Name="List Table 6 Colorful Accent 5"/>
  <w:LsdException Locked="false" Priority="52"
   Name="List Table 7 Colorful Accent 5"/>
  <w:LsdException Locked="false" Priority="46"
   Name="List Table 1 Light Accent 6"/>
  <w:LsdException Locked="false" Priority="47" Name="List Table 2 Accent 6"/>
  <w:LsdException Locked="false" Priority="48" Name="List Table 3 Accent 6"/>
  <w:LsdException Locked="false" Priority="49" Name="List Table 4 Accent 6"/>
  <w:LsdException Locked="false" Priority="50" Name="List Table 5 Dark Accent 6"/>
  <w:LsdException Locked="false" Priority="51"
   Name="List Table 6 Colorful Accent 6"/>
  <w:LsdException Locked="false" Priority="52"
   Name="List Table 7 Colorful Accent 6"/>
  <w:LsdException Locked="false" SemiHidden="true" UnhideWhenUsed="true"
   Name="Mention"/>
  <w:LsdException Locked="false" SemiHidden="true" UnhideWhenUsed="true"
   Name="Smart Hyperlink"/>
  <w:LsdException Locked="false" SemiHidden="true" UnhideWhenUsed="true"
   Name="Hashtag"/>
  <w:LsdException Locked="false" SemiHidden="true" UnhideWhenUsed="true"
   Name="Unresolved Mention"/>
  <w:LsdException Locked="false" SemiHidden="true" UnhideWhenUsed="true"
   Name="Smart Link"/>
 </w:LatentStyles>
</xml><![endif]-->
<style scoped>
<!--
\n",
       "    .dataframe tbody tr th:only-of-type {\n",
       "        vertical-align: middle;\n",
       "    }\n",
       "\n",
       "    .dataframe tbody tr th {\n",
       "        vertical-align: top;\n",
       "    }\n",
       "\n",
       "    .dataframe thead th {\n",
       "        text-align: right;\n",
       "    }\n",
       "</style>\n",
       "<table border=\"1\" class=\"dataframe\">\n",
       "  <thead>\n",
       "    <tr style=\"text-align: right;\">\n",
       "      <th></th>\n",
       "      <th>date</th>\n",
       "      <th>cmname</th>\n",
       "      <th>unit</th>\n",
       "      <th>category</th>\n",
       "      <th>price</th>\n",
       "      <th>currency</th>\n",
       "      <th>country</th>\n",
       "      <th>admname</th>\n",
       "      <th>adm1id</th>\n",
       "      <th>mktname</th>\n",
       "      <th>mktid</th>\n",
       "      <th>cmid</th>\n",
       "      <th>ptid</th>\n",
       "      <th>umid</th>\n",
       "      <th>catid</th>\n",
       "      <th>sn</th>\n",
       "      <th>default</th>\n",
       "    </tr>\n",
       "  </thead>\n",
       "  <tbody>\n",
       "    <tr>\n",
       "      <th>0</th>\n",
       "      <td>15/9/2014</td>\n",
       "      <td>Beans - Retail</td>\n",
       "      <td>KG</td>\n",
       "      <td>pulses and nuts</td>\n",
       "      <td>1.4</td>\n",
       "      <td>USD</td>\n",
       "      <td>Zimbabwe</td>\n",
       "      <td>Bulawayo</td>\n",
       "      <td>3435</td>\n",
       "      <td>Renkini Bus Terminus</td>\n",
       "      <td>715</td>\n",
       "      <td>50</td>\n",
       "      <td>15</td>\n",
       "      <td>5</td>\n",
       "      <td>5</td>\n",
       "      <td>715_50_15_5</td>\n",
       "      <td>NaN</td>\n",
       "    </tr>\n",
       "    <tr>\n",
       "      <th>1</th>\n",
       "      <td>15/10/2014</td>\n",
       "      <td>Beans - Retail</td>\n",
       "      <td>KG</td>\n",
       "      <td>pulses and nuts</td>\n",
       "      <td>1.4</td>\n",
       "      <td>USD</td>\n",
       "      <td>Zimbabwe</td>\n",
       "      <td>Bulawayo</td>\n",
       "      <td>3435</td>\n",
       "      <td>Renkini Bus Terminus</td>\n",
       "      <td>715</td>\n",
       "      <td>50</td>\n",
       "      <td>15</td>\n",
       "      <td>5</td>\n",
       "      <td>5</td>\n",
       "      <td>715_50_15_5</td>\n",
       "      <td>NaN</td>\n",
       "    </tr>\n",
       "    <tr>\n",
       "      <th>2</th>\n",
       "      <td>15/11/2014</td>\n",
       "      <td>Beans - Retail</td>\n",
       "      <td>KG</td>\n",
       "      <td>pulses and nuts</td>\n",
       "      <td>1.4</td>\n",
       "      <td>USD</td>\n",
       "      <td>Zimbabwe</td>\n",
       "      <td>Bulawayo</td>\n",
       "      <td>3435</td>\n",
       "      <td>Renkini Bus Terminus</td>\n",
       "      <td>715</td>\n",
       "      <td>50</td>\n",
       "      <td>15</td>\n",
       "      <td>5</td>\n",
       "      <td>5</td>\n",
       "      <td>715_50_15_5</td>\n",
       "      <td>NaN</td>\n",
       "    </tr>\n",
       "    <tr>\n",
       "      <th>3</th>\n",
       "      <td>15/12/2014</td>\n",
       "      <td>Beans - Retail</td>\n",
       "      <td>KG</td>\n",
       "      <td>pulses and nuts</td>\n",
       "      <td>1.4</td>\n",
       "      <td>USD</td>\n",
       "      <td>Zimbabwe</td>\n",
       "      <td>Bulawayo</td>\n",
       "      <td>3435</td>\n",
       "      <td>Renkini Bus Terminus</td>\n",
       "      <td>715</td>\n",
       "      <td>50</td>\n",
       "      <td>15</td>\n",
       "      <td>5</td>\n",
       "      <td>5</td>\n",
       "      <td>715_50_15_5</td>\n",
       "      <td>NaN</td>\n",
       "    </tr>\n",
       "    <tr>\n",
       "      <th>4</th>\n",
       "      <td>15/2/2015</td>\n",
       "      <td>Beans - Retail</td>\n",
       "      <td>KG</td>\n",
       "      <td>pulses and nuts</td>\n",
       "      <td>1.4</td>\n",
       "      <td>USD</td>\n",
       "      <td>Zimbabwe</td>\n",
       "      <td>Bulawayo</td>\n",
       "      <td>3435</td>\n",
       "      <td>Renkini Bus Terminus</td>\n",
       "      <td>715</td>\n",
       "      <td>50</td>\n",
       "      <td>15</td>\n",
       "      <td>5</td>\n",
       "      <td>5</td>\n",
       "      <td>715_50_15_5</td>\n",
       "      <td>NaN</td>\n",
       "    </tr>\n",
       "  </tbody>\n",
       "</table>\n",
       "</div>"
      ],
      "text/plain": [
       "         date          cmname unit         category  price currency   country  \\\n",
       "0   15/9/2014  Beans - Retail   KG  pulses and nuts    1.4      USD  Zimbabwe   \n",
       "1  15/10/2014  Beans - Retail   KG  pulses and nuts    1.4      USD  Zimbabwe   \n",
       "2  15/11/2014  Beans - Retail   KG  pulses and nuts    1.4      USD  Zimbabwe   \n",
       "3  15/12/2014  Beans - Retail   KG  pulses and nuts    1.4      USD  Zimbabwe   \n",
       "4   15/2/2015  Beans - Retail   KG  pulses and nuts    1.4      USD  Zimbabwe   \n",
       "\n",
       "    admname  adm1id               mktname  mktid  cmid  ptid  umid  catid  \\\n",
       "0  Bulawayo    3435  Renkini Bus Terminus    715    50    15     5      5   \n",
       "1  Bulawayo    3435  Renkini Bus Terminus    715    50    15     5      5   \n",
       "2  Bulawayo    3435  Renkini Bus Terminus    715    50    15     5      5   \n",
       "3  Bulawayo    3435  Renkini Bus Terminus    715    50    15     5      5   \n",
       "4  Bulawayo    3435  Renkini Bus Terminus    715    50    15     5      5   \n",
       "\n",
       "            sn  default  \n",
       "0  715_50_15_5      NaN  \n",
       "1  715_50_15_5      NaN  \n",
       "2  715_50_15_5      NaN  \n",
       "3  715_50_15_5      NaN  \n",
       "4  715_50_15_5      NaN  "
      ]
     },
     "execution_count": 3,
     "metadata": {}
],
   "source": [
    "df.head()"
   ]
  },
  {
   "cell_type": "code",
   "execution_count": 49,
   "metadata": {},
   "outputs": [
    {
     "data": {
      "text/html": [
       "<div>\n",
       "<style scoped>\n",
       "    .dataframe tbody tr th:only-of-type {\n",
       "        vertical-align: middle;\n",
       "    }\n",
       "\n",
       "    .dataframe tbody tr th {\n",
       "        vertical-align: top;\n",
       "    }\n",
       "\n",
       "    .dataframe thead th {\n",
       "        text-align: right;\n",
       "    }\n",
       "</style>\n",
       "<table border=\"1\" class=\"dataframe\">\n",
       "  <thead>\n",
       "    <tr style=\"text-align: right;\">\n",
       "      <th></th>\n",
       "      <th>date</th>\n",
       "      <th>cmname</th>\n",
       "      <th>unit</th>\n",
       "      <th>category</th>\n",
       "      <th>price</th>\n",
       "      <th>currency</th>\n",
       "      <th>country</th>\n",
       "      <th>admname</th>\n",
       "      <th>adm1id</th>\n",
       "      <th>mktname</th>\n",
       "      <th>mktid</th>\n",
       "      <th>cmid</th>\n",
       "      <th>ptid</th>\n",
       "      <th>umid</th>\n",
       "      <th>catid</th>\n",
       "      <th>sn</th>\n",
       "      <th>default</th>\n",
       "      <th>Discounted</th>\n",
       "    </tr>\n",
       "  </thead>\n",
       "  <tbody>\n",
       "    <tr>\n",
       "      <th>0</th>\n",
       "      <td>15/9/2014</td>\n",
       "      <td>Beans - Retail</td>\n",
       "      <td>KG</td>\n",
       "      <td>pulses and nuts</td>\n",
       "      <td>1.40</td>\n",
       "      <td>USD</td>\n",
       "      <td>Zimbabwe</td>\n",
       "      <td>Bulawayo</td>\n",
       "      <td>3435</td>\n",
       "      <td>Renkini Bus Terminus</td>\n",
       "      <td>715</td>\n",
       "      <td>50</td>\n",
       "      <td>15</td>\n",
       "      <td>5</td>\n",
       "      <td>5</td>\n",
       "      <td>715_50_15_5</td>\n",
       "      <td>NaN</td>\n",
       "      <td>1.12</td>\n",
       "    </tr>\n",
       "    <tr>\n",
       "      <th>1</th>\n",
       "      <td>15/10/2014</td>\n",
       "      <td>Beans - Retail</td>\n",
       "      <td>KG</td>\n",
       "      <td>pulses and nuts</td>\n",
       "      <td>1.40</td>\n",
       "      <td>USD</td>\n",
       "      <td>Zimbabwe</td>\n",
       "      <td>Bulawayo</td>\n",
       "      <td>3435</td>\n",
       "      <td>Renkini Bus Terminus</td>\n",
       "      <td>715</td>\n",
       "      <td>50</td>\n",
       "      <td>15</td>\n",
       "      <td>5</td>\n",
       "      <td>5</td>\n",
       "      <td>715_50_15_5</td>\n",
       "      <td>NaN</td>\n",
       "      <td>1.12</td>\n",
       "    </tr>\n",
       "    <tr>\n",
       "      <th>2</th>\n",
       "      <td>15/11/2014</td>\n",
       "      <td>Beans - Retail</td>\n",
       "      <td>KG</td>\n",
       "      <td>pulses and nuts</td>\n",
       "      <td>1.40</td>\n",
       "      <td>USD</td>\n",
       "      <td>Zimbabwe</td>\n",
       "      <td>Bulawayo</td>\n",
       "      <td>3435</td>\n",
       "      <td>Renkini Bus Terminus</td>\n",
       "      <td>715</td>\n",
       "      <td>50</td>\n",
       "      <td>15</td>\n",
       "      <td>5</td>\n",
       "      <td>5</td>\n",
       "      <td>715_50_15_5</td>\n",
       "      <td>NaN</td>\n",
       "      <td>1.12</td>\n",
       "    </tr>\n",
       "    <tr>\n",
       "      <th>3</th>\n",
       "      <td>15/12/2014</td>\n",
       "      <td>Beans - Retail</td>\n",
       "      <td>KG</td>\n",
       "      <td>pulses and nuts</td>\n",
       "      <td>1.40</td>\n",
       "      <td>USD</td>\n",
       "      <td>Zimbabwe</td>\n",
       "      <td>Bulawayo</td>\n",
       "      <td>3435</td>\n",
       "      <td>Renkini Bus Terminus</td>\n",
       "      <td>715</td>\n",
       "      <td>50</td>\n",
       "      <td>15</td>\n",
       "      <td>5</td>\n",
       "      <td>5</td>\n",
       "      <td>715_50_15_5</td>\n",
       "      <td>NaN</td>\n",
       "      <td>1.12</td>\n",
       "    </tr>\n",
       "    <tr>\n",
       "      <th>4</th>\n",
       "      <td>15/2/2015</td>\n",
       "      <td>Beans - Retail</td>\n",
       "      <td>KG</td>\n",
       "      <td>pulses and nuts</td>\n",
       "      <td>1.40</td>\n",
       "      <td>USD</td>\n",
       "      <td>Zimbabwe</td>\n",
       "      <td>Bulawayo</td>\n",
       "      <td>3435</td>\n",
       "      <td>Renkini Bus Terminus</td>\n",
       "      <td>715</td>\n",
       "      <td>50</td>\n",
       "      <td>15</td>\n",
       "      <td>5</td>\n",
       "      <td>5</td>\n",
       "      <td>715_50_15_5</td>\n",
       "      <td>NaN</td>\n",
       "      <td>1.12</td>\n",
       "    </tr>\n",
       "    <tr>\n",
       "      <th>5</th>\n",
       "      <td>15/3/2015</td>\n",
       "      <td>Beans - Retail</td>\n",
       "      <td>KG</td>\n",
       "      <td>pulses and nuts</td>\n",
       "      <td>1.40</td>\n",
       "      <td>USD</td>\n",
       "      <td>Zimbabwe</td>\n",
       "      <td>Bulawayo</td>\n",
       "      <td>3435</td>\n",
       "      <td>Renkini Bus Terminus</td>\n",
       "      <td>715</td>\n",
       "      <td>50</td>\n",
       "      <td>15</td>\n",
       "      <td>5</td>\n",
       "      <td>5</td>\n",
       "      <td>715_50_15_5</td>\n",
       "      <td>NaN</td>\n",
       "      <td>1.12</td>\n",
       "    </tr>\n",
       "    <tr>\n",
       "      <th>6</th>\n",
       "      <td>15/4/2015</td>\n",
       "      <td>Beans - Retail</td>\n",
       "      <td>KG</td>\n",
       "      <td>pulses and nuts</td>\n",
       "      <td>1.75</td>\n",
       "      <td>USD</td>\n",
       "      <td>Zimbabwe</td>\n",
       "      <td>Bulawayo</td>\n",
       "      <td>3435</td>\n",
       "      <td>Renkini Bus Terminus</td>\n",
       "      <td>715</td>\n",
       "      <td>50</td>\n",
       "      <td>15</td>\n",
       "      <td>5</td>\n",
       "      <td>5</td>\n",
       "      <td>715_50_15_5</td>\n",
       "      <td>NaN</td>\n",
       "      <td>1.40</td>\n",
       "    </tr>\n",
       "    <tr>\n",
       "      <th>7</th>\n",
       "      <td>15/5/2015</td>\n",
       "      <td>Beans - Retail</td>\n",
       "      <td>KG</td>\n",
       "      <td>pulses and nuts</td>\n",
       "      <td>1.75</td>\n",
       "      <td>USD</td>\n",
       "      <td>Zimbabwe</td>\n",
       "      <td>Bulawayo</td>\n",
       "      <td>3435</td>\n",
       "      <td>Renkini Bus Terminus</td>\n",
       "      <td>715</td>\n",
       "      <td>50</td>\n",
       "      <td>15</td>\n",
       "      <td>5</td>\n",
       "      <td>5</td>\n",
       "      <td>715_50_15_5</td>\n",
       "      <td>NaN</td>\n",
       "      <td>1.40</td>\n",
       "    </tr>\n",
       "    <tr>\n",
       "      <th>8</th>\n",
       "      <td>15/6/2015</td>\n",
       "      <td>Beans - Retail</td>\n",
       "      <td>KG</td>\n",
       "      <td>pulses and nuts</td>\n",
       "      <td>1.75</td>\n",
       "      <td>USD</td>\n",
       "      <td>Zimbabwe</td>\n",
       "      <td>Bulawayo</td>\n",
       "      <td>3435</td>\n",
       "      <td>Renkini Bus Terminus</td>\n",
       "      <td>715</td>\n",
       "      <td>50</td>\n",
       "      <td>15</td>\n",
       "      <td>5</td>\n",
       "      <td>5</td>\n",
       "      <td>715_50_15_5</td>\n",
       "      <td>NaN</td>\n",
       "      <td>1.40</td>\n",
       "    </tr>\n",
       "    <tr>\n",
       "      <th>9</th>\n",
       "      <td>15/7/2015</td>\n",
       "      <td>Beans - Retail</td>\n",
       "      <td>KG</td>\n",
       "      <td>pulses and nuts</td>\n",
       "      <td>1.40</td>\n",
       "      <td>USD</td>\n",
       "      <td>Zimbabwe</td>\n",
       "      <td>Bulawayo</td>\n",
       "      <td>3435</td>\n",
       "      <td>Renkini Bus Terminus</td>\n",
       "      <td>715</td>\n",
       "      <td>50</td>\n",
       "      <td>15</td>\n",
       "      <td>5</td>\n",
       "      <td>5</td>\n",
       "      <td>715_50_15_5</td>\n",
       "      <td>NaN</td>\n",
       "      <td>1.12</td>\n",
       "    </tr>\n",
       "  </tbody>\n",
       "</table>\n",
       "</div>"
      ],
      "text/plain": [
       "         date          cmname unit         category  price currency   country  \\\n",
       "0   15/9/2014  Beans - Retail   KG  pulses and nuts   1.40      USD  Zimbabwe   \n",
       "1  15/10/2014  Beans - Retail   KG  pulses and nuts   1.40      USD  Zimbabwe   \n",
       "2  15/11/2014  Beans - Retail   KG  pulses and nuts   1.40      USD  Zimbabwe   \n",
       "3  15/12/2014  Beans - Retail   KG  pulses and nuts   1.40      USD  Zimbabwe   \n",
       "4   15/2/2015  Beans - Retail   KG  pulses and nuts   1.40      USD  Zimbabwe   \n",
       "5   15/3/2015  Beans - Retail   KG  pulses and nuts   1.40      USD  Zimbabwe   \n",
       "6   15/4/2015  Beans - Retail   KG  pulses and nuts   1.75      USD  Zimbabwe   \n",
       "7   15/5/2015  Beans - Retail   KG  pulses and nuts   1.75      USD  Zimbabwe   \n",
       "8   15/6/2015  Beans - Retail   KG  pulses and nuts   1.75      USD  Zimbabwe   \n",
       "9   15/7/2015  Beans - Retail   KG  pulses and nuts   1.40      USD  Zimbabwe   \n",
       "\n",
       "    admname  adm1id               mktname  mktid  cmid  ptid  umid  catid  \\\n",
       "0  Bulawayo    3435  Renkini Bus Terminus    715    50    15     5      5   \n",
       "1  Bulawayo    3435  Renkini Bus Terminus    715    50    15     5      5   \n",
       "2  Bulawayo    3435  Renkini Bus Terminus    715    50    15     5      5   \n",
       "3  Bulawayo    3435  Renkini Bus Terminus    715    50    15     5      5   \n",
       "4  Bulawayo    3435  Renkini Bus Terminus    715    50    15     5      5   \n",
       "5  Bulawayo    3435  Renkini Bus Terminus    715    50    15     5      5   \n",
       "6  Bulawayo    3435  Renkini Bus Terminus    715    50    15     5      5   \n",
       "7  Bulawayo    3435  Renkini Bus Terminus    715    50    15     5      5   \n",
       "8  Bulawayo    3435  Renkini Bus Terminus    715    50    15     5      5   \n",
       "9  Bulawayo    3435  Renkini Bus Terminus    715    50    15     5      5   \n",
       "\n",
       "            sn  default  Discounted  \n",
       "0  715_50_15_5      NaN        1.12  \n",
       "1  715_50_15_5      NaN        1.12  \n",
       "2  715_50_15_5      NaN        1.12  \n",
       "3  715_50_15_5      NaN        1.12  \n",
       "4  715_50_15_5      NaN        1.12  \n",
       "5  715_50_15_5      NaN        1.12  \n",
       "6  715_50_15_5      NaN        1.40  \n",
       "7  715_50_15_5      NaN        1.40  \n",
       "8  715_50_15_5      NaN        1.40  \n",
       "9  715_50_15_5      NaN        1.12  "
      ]
     },
     "execution_count": 49,
     "metadata": {},
     "output_type": "execute_result"
    }
   ],
   "source": [
    "df.head(10)"
   ]
  }
: 4,
   "metadata": {}
: [
    {
     "data": {
      "text/html": [
       "<div>\n",
       "<style scoped>\n",
       "    .dataframe tbody tr th:only-of-type {\n",
       "        vertical-align: middle;\n",
       "    }\n",
       "\n",
       "    .dataframe tbody tr th {\n",
       "        vertical-align: top;\n",
       "    }\n",
       "\n",
       "    .dataframe thead th {\n",
       "        text-align: right;\n",
       "    }\n",
       "</style>\n",
       "<table border=\"1\" class=\"dataframe\">\n",
       "  <thead>\n",
       "    <tr style=\"text-align: right;\">\n",
       "      <th></th>\n",
       "      <th>date</th>\n",
       "      <th>cmname</th>\n",
       "      <th>unit</th>\n",
       "      <th>category</th>\n",
       "      <th>price</th>\n",
       "      <th>currency</th>\n",
       "      <th>country</th>\n",
       "      <th>admname</th>\n",
       "      <th>adm1id</th>\n",
       "      <th>mktname</th>\n",
       "      <th>mktid</th>\n",
       "      <th>cmid</th>\n",
       "      <th>ptid</th>\n",
       "      <th>umid</th>\n",
       "      <th>catid</th>\n",
       "      <th>sn</th>\n",
       "      <th>default</th>\n",
       "    </tr>\n",
       "  </thead>\n",
       "  <tbody>\n",
       "    <tr>\n",
       "      <th>4213</th>\n",
       "      <td>15/9/2017</td>\n",
       "      <td>Sugar (white, fortified) - Retail</td>\n",
       "      <td>KG</td>\n",
       "      <td>miscellaneous food</td>\n",
       "      <td>1.50</td>\n",
       "      <td>USD</td>\n",
       "      <td>Zimbabwe</td>\n",
       "      <td>Midlands</td>\n",
       "      <td>3444</td>\n",
       "      <td>Vhugwi</td>\n",
       "      <td>2185</td>\n",
       "      <td>497</td>\n",
       "      <td>15</td>\n",
       "      <td>5</td>\n",
       "      <td>7</td>\n",
       "      <td>2185_497_15_5</td>\n",
       "      <td>NaN</td>\n",
       "    </tr>\n",
       "    <tr>\n",
       "      <th>4214</th>\n",
       "      <td>15/3/2018</td>\n",
       "      <td>Beans - Retail</td>\n",
       "      <td>KG</td>\n",
       "      <td>pulses and nuts</td>\n",
       "      <td>2.80</td>\n",
       "      <td>USD</td>\n",
       "      <td>Zimbabwe</td>\n",
       "      <td>Midlands</td>\n",
       "      <td>3444</td>\n",
       "      <td>Murowa</td>\n",
       "      <td>2187</td>\n",
       "      <td>50</td>\n",
       "      <td>15</td>\n",
       "      <td>5</td>\n",
       "      <td>5</td>\n",
       "      <td>2187_50_15_5</td>\n",
       "      <td>NaN</td>\n",
       "    </tr>\n",
       "    <tr>\n",
       "      <th>4215</th>\n",
       "      <td>15/3/2018</td>\n",
       "      <td>Maize - Retail</td>\n",
       "      <td>KG</td>\n",
       "      <td>cereals and tubers</td>\n",
       "      <td>0.40</td>\n",
       "      <td>USD</td>\n",
       "      <td>Zimbabwe</td>\n",
       "      <td>Midlands</td>\n",
       "      <td>3444</td>\n",
       "      <td>Murowa</td>\n",
       "      <td>2187</td>\n",
       "      <td>51</td>\n",
       "      <td>15</td>\n",
       "      <td>5</td>\n",
       "      <td>1</td>\n",
       "      <td>2187_51_15_5</td>\n",
       "      <td>NaN</td>\n",
       "    </tr>\n",
       "    <tr>\n",
       "      <th>4216</th>\n",
       "      <td>15/3/2018</td>\n",
       "      <td>Oil (vegetable) - Retail</td>\n",
       "      <td>L</td>\n",
       "      <td>oil and fats</td>\n",
       "      <td>2.35</td>\n",
       "      <td>USD</td>\n",
       "      <td>Zimbabwe</td>\n",
       "      <td>Midlands</td>\n",
       "      <td>3444</td>\n",
       "      <td>Murowa</td>\n",
       "      <td>2187</td>\n",
       "      <td>96</td>\n",
       "      <td>15</td>\n",
       "      <td>15</td>\n",
       "      <td>6</td>\n",
       "      <td>2187_96_15_15</td>\n",
       "      <td>NaN</td>\n",
       "    </tr>\n",
       "    <tr>\n",
       "      <th>4217</th>\n",
       "      <td>15/3/2018</td>\n",
       "      <td>Maize meal (white, roller) - Retail</td>\n",
       "      <td>KG</td>\n",
       "      <td>cereals and tubers</td>\n",
       "      <td>0.55</td>\n",
       "      <td>USD</td>\n",
       "      <td>Zimbabwe</td>\n",
       "      <td>Midlands</td>\n",
       "      <td>3444</td>\n",
       "      <td>Murowa</td>\n",
       "      <td>2187</td>\n",
       "      <td>264</td>\n",
       "      <td>15</td>\n",
       "      <td>5</td>\n",
       "      <td>1</td>\n",
       "      <td>2187_264_15_5</td>\n",
       "      <td>NaN</td>\n",
       "    </tr>\n",
       "  </tbody>\n",
       "</table>\n",
       "</div>"
      ],
      "text/plain": [
       "           date                               cmname unit            category  \\\n",
       "4213  15/9/2017    Sugar (white, fortified) - Retail   KG  miscellaneous food   \n",
       "4214  15/3/2018                       Beans - Retail   KG     pulses and nuts   \n",
       "4215  15/3/2018                       Maize - Retail   KG  cereals and tubers   \n",
       "4216  15/3/2018             Oil (vegetable) - Retail    L        oil and fats   \n",
       "4217  15/3/2018  Maize meal (white, roller) - Retail   KG  cereals and tubers   \n",
       "\n",
       "      price currency   country   admname  adm1id mktname  mktid  cmid  ptid  \\\n",
       "4213   1.50      USD  Zimbabwe  Midlands    3444  Vhugwi   2185   497    15   \n",
       "4214   2.80      USD  Zimbabwe  Midlands    3444  Murowa   2187    50    15   \n",
       "4215   0.40      USD  Zimbabwe  Midlands    3444  Murowa   2187    51    15   \n",
       "4216   2.35      USD  Zimbabwe  Midlands    3444  Murowa   2187    96    15   \n",
       "4217   0.55      USD  Zimbabwe  Midlands    3444  Murowa   2187   264    15   \n",
       "\n",
       "      umid  catid             sn  default  \n",
       "4213     5      7  2185_497_15_5      NaN  \n",
       "4214     5      5   2187_50_15_5      NaN  \n",
       "4215     5      1   2187_51_15_5      NaN  \n",
       "4216    15      6  2187_96_15_15      NaN  \n",
       "4217     5      1  2187_264_15_5      NaN  "
      ]
     },
     "execution_count": 4,
     "metadata": {},
     "output_type": "execute_result"
    }
],
   "source": [
    "df.tail()"
   ]
  },
  {
   "cell_type": "code",
   "execution_count": 5,
   "metadata": {},
   "outputs": [
    {
     "data": {
      "text/plain": [
       "(4218, 17)"
      ]
     },
     "execution_count": 5,
     "metadata": {},
     "output_type": "execute_result"
    }
   ],
   "source": [
    "df.shape"
   ]
  }
: 6,
   "metadata": {}
: [
    {
     "name": "stdout",
     "output_type": "stream",
     "text": [
      "<class 'pandas.core.frame.DataFrame'>\n",
      "RangeIndex: 4218 entries, 0 to 4217\n",
      "Data columns (total 17 columns):\n",
      " #   Column    Non-Null Count  Dtype  \n",
      "---  ------    --------------  -----  \n",
      " 0   date      4218 non-null   object \n",
      " 1   cmname    4218 non-null   object \n",
      " 2   unit      4218 non-null   object \n",
      " 3   category  4218 non-null   object \n",
      " 4   price     4218 non-null   float64\n",
      " 5   currency  4218 non-null   object \n",
      " 6   country   4218 non-null   object \n",
      " 7   admname   4218 non-null   object \n",
      " 8   adm1id    4218 non-null   int64  \n",
      " 9   mktname   4218 non-null   object \n",
      " 10  mktid     4218 non-null   int64  \n",
      " 11  cmid      4218 non-null   int64  \n",
      " 12  ptid      4218 non-null   int64  \n",
      " 13  umid      4218 non-null   int64  \n",
      " 14  catid     4218 non-null   int64  \n",
      " 15  sn        4218 non-null   object \n",
      " 16  default   0 non-null      float64\n",
      "dtypes: float64(2), int64(6), object(9)\n",
      "memory usage: 560.3+ KB\n"
     ]
    }
],
   "source": [
    "df.info()"
   ]
  },
  {
   "cell_type": "code",
   "execution_count": 7,
   "metadata": {},
   "outputs": [
    {
     "data": {
      "text/html": [
       "<div>\n",
       "<style scoped>\n",
       "    .dataframe tbody tr th:only-of-type {\n",
       "        vertical-align: middle;\n",
       "    }\n",
       "\n",
       "    .dataframe tbody tr th {\n",
       "        vertical-align: top;\n",
       "    }\n",
       "\n",
       "    .dataframe thead th {\n",
       "        text-align: right;\n",
       "    }\n",
       "</style>\n",
       "<table border=\"1\" class=\"dataframe\">\n",
       "  <thead>\n",
       "    <tr style=\"text-align: right;\">\n",
       "      <th></th>\n",
       "      <th>price</th>\n",
       "      <th>adm1id</th>\n",
       "      <th>mktid</th>\n",
       "      <th>cmid</th>\n",
       "      <th>ptid</th>\n",
       "      <th>umid</th>\n",
       "      <th>catid</th>\n",
       "      <th>default</th>\n",
       "    </tr>\n",
       "  </thead>\n",
       "  <tbody>\n",
       "    <tr>\n",
       "      <th>count</th>\n",
       "      <td>4218.000000</td>\n",
       "      <td>4218.000000</td>\n",
       "      <td>4218.000000</td>\n",
       "      <td>4218.000000</td>\n",
       "      <td>4218.0</td>\n",
       "      <td>4218.000000</td>\n",
       "      <td>4218.000000</td>\n",
       "      <td>0.0</td>\n",
       "    </tr>\n",
       "    <tr>\n",
       "      <th>mean</th>\n",
       "      <td>1.012914</td>\n",
       "      <td>3440.037221</td>\n",
       "      <td>1248.615220</td>\n",
       "      <td>134.868895</td>\n",
       "      <td>15.0</td>\n",
       "      <td>6.541015</td>\n",
       "      <td>2.651019</td>\n",
       "      <td>NaN</td>\n",
       "    </tr>\n",
       "    <tr>\n",
       "      <th>std</th>\n",
       "      <td>1.344572</td>\n",
       "      <td>2.728969</td>\n",
       "      <td>690.907382</td>\n",
       "      <td>139.995054</td>\n",
       "      <td>0.0</td>\n",
       "      <td>3.610888</td>\n",
       "      <td>2.223268</td>\n",
       "      <td>NaN</td>\n",
       "    </tr>\n",
       "    <tr>\n",
       "      <th>min</th>\n",
       "      <td>0.130000</td>\n",
       "      <td>3435.000000</td>\n",
       "      <td>708.000000</td>\n",
       "      <td>50.000000</td>\n",
       "      <td>15.0</td>\n",
       "      <td>5.000000</td>\n",
       "      <td>1.000000</td>\n",
       "      <td>NaN</td>\n",
       "    </tr>\n",
       "    <tr>\n",
       "      <th>25%</th>\n",
       "      <td>0.340000</td>\n",
       "      <td>3438.000000</td>\n",
       "      <td>716.000000</td>\n",
       "      <td>51.000000</td>\n",
       "      <td>15.0</td>\n",
       "      <td>5.000000</td>\n",
       "      <td>1.000000</td>\n",
       "      <td>NaN</td>\n",
       "    </tr>\n",
       "    <tr>\n",
       "      <th>50%</th>\n",
       "      <td>0.550000</td>\n",
       "      <td>3441.000000</td>\n",
       "      <td>726.000000</td>\n",
       "      <td>65.000000</td>\n",
       "      <td>15.0</td>\n",
       "      <td>5.000000</td>\n",
       "      <td>1.000000</td>\n",
       "      <td>NaN</td>\n",
       "    </tr>\n",
       "    <tr>\n",
       "      <th>75%</th>\n",
       "      <td>1.750000</td>\n",
       "      <td>3442.000000</td>\n",
       "      <td>2153.000000</td>\n",
       "      <td>119.000000</td>\n",
       "      <td>15.0</td>\n",
       "      <td>5.000000</td>\n",
       "      <td>5.000000</td>\n",
       "      <td>NaN</td>\n",
       "    </tr>\n",
       "    <tr>\n",
       "      <th>max</th>\n",
       "      <td>65.000000</td>\n",
       "      <td>3444.000000</td>\n",
       "      <td>2190.000000</td>\n",
       "      <td>501.000000</td>\n",
       "      <td>15.0</td>\n",
       "      <td>15.000000</td>\n",
       "      <td>7.000000</td>\n",
       "      <td>NaN</td>\n",
       "    </tr>\n",
       "  </tbody>\n",
       "</table>\n",
       "</div>"
      ],
      "text/plain": [
       "             price       adm1id        mktid         cmid    ptid  \\\n",
       "count  4218.000000  4218.000000  4218.000000  4218.000000  4218.0   \n",
       "mean      1.012914  3440.037221  1248.615220   134.868895    15.0   \n",
       "std       1.344572     2.728969   690.907382   139.995054     0.0   \n",
       "min       0.130000  3435.000000   708.000000    50.000000    15.0   \n",
       "25%       0.340000  3438.000000   716.000000    51.000000    15.0   \n",
       "50%       0.550000  3441.000000   726.000000    65.000000    15.0   \n",
       "75%       1.750000  3442.000000  2153.000000   119.000000    15.0   \n",
       "max      65.000000  3444.000000  2190.000000   501.000000    15.0   \n",
       "\n",
       "              umid        catid  default  \n",
       "count  4218.000000  4218.000000      0.0  \n",
       "mean      6.541015     2.651019      NaN  \n",
       "std       3.610888     2.223268      NaN  \n",
       "min       5.000000     1.000000      NaN  \n",
       "25%       5.000000     1.000000      NaN  \n",
       "50%       5.000000     1.000000      NaN  \n",
       "75%       5.000000     5.000000      NaN  \n",
       "max      15.000000     7.000000      NaN  "
      ]
     },
     "execution_count": 7,
     "metadata": {},
     "output_type": "execute_result"
    }
   ],
   "source": [
    "df.describe()"
   ]
  }
: 8,
   "metadata": {}
: [
    {
     "data": {
      "text/plain": [
       "Index(['date', 'cmname', 'unit', 'category', 'price', 'currency', 'country',\n",
       "       'admname', 'adm1id', 'mktname', 'mktid', 'cmid', 'ptid', 'umid',\n",
       "       'catid', 'sn', 'default'],\n",
       "      dtype='object')"
      ]
     },
     "execution_count": 8,
     "metadata": {},
     "output_type": "execute_result"
    }
],
   "source": [
    "df.columns"
   ]
  },
  {
   "cell_type": "code",
   "execution_count": 9,
   "metadata": {},
   "outputs": [
    {
     "data": {
      "text/plain": [
       "array(['Beans - Retail', 'Maize - Retail', 'Sorghum - Retail',\n",
       "       'Millet - Retail', 'Wheat - Retail', 'Oil (vegetable) - Retail',\n",
       "       'Groundnuts (shelled) - Retail', 'Maize flour (white) - Retail',\n",
       "       'Cowpeas - Retail', 'Maize meal (white, roller) - Retail',\n",
       "       'Maize meal (white, first grade) - Retail', 'Soybeans - Retail',\n",
       "       'Oil (vegetable, fortified) - Retail',\n",
       "       'Maize meal (white, fortified) - Retail',\n",
       "       'Wheat flour (fortified) - Retail',\n",
       "       'Sugar (white, fortified) - Retail',\n",
       "       'Maize (yellow, biofortified) - Retail',\n",
       "       'Beans (sugar, biofortified) - Retail',\n",
       "       'Sorghum (biofortified) - Retail',\n",
       "       'Millet (biofortified) - Retail'], dtype=object)"
      ]
     },
     "execution_count": 9,
     "metadata": {},
     "output_type": "execute_result"
    }
   ],
   "source": [
    "df['cmname'].unique()"
   ]
  }
: [
    "## selectings columns"
   ]
  },
  {
   "cell_type": "code",
   "execution_count": 13,
   "metadata": {},
   "outputs": [
    {
     "data": {
      "text/plain": [
       "Index(['date', 'cmname', 'unit', 'category', 'price', 'currency', 'country',\n",
       "       'admname', 'adm1id', 'mktname', 'mktid', 'cmid', 'ptid', 'umid',\n",
       "       'catid', 'sn', 'default'],\n",
       "      dtype='object')"
      ]
     },
     "execution_count": 13,
     "metadata": {},
     "output_type": "execute_result"
    }
   ],
   "source": [
    "df.columns"
   ]
  }
: 14,
   "metadata": {}
: [
    {
     "data": {
      "text/plain": [
       "0                            Beans - Retail\n",
       "1                            Beans - Retail\n",
       "2                            Beans - Retail\n",
       "3                            Beans - Retail\n",
       "4                            Beans - Retail\n",
       "                       ...                 \n",
       "4213      Sugar (white, fortified) - Retail\n",
       "4214                         Beans - Retail\n",
       "4215                         Maize - Retail\n",
       "4216               Oil (vegetable) - Retail\n",
       "4217    Maize meal (white, roller) - Retail\n",
       "Name: cmname, Length: 4218, dtype: object"
      ]
     },
     "execution_count": 14,
     "metadata": {},
     "output_type": "execute_result"
    }
],
   "source": [
    "df['cmname']"
   ]
  },
  {
   "cell_type": "code",
   "execution_count": 15,
   "metadata": {},
   "outputs": [
    {
     "data": {
      "text/plain": [
       "0                            Beans - Retail\n",
       "1                            Beans - Retail\n",
       "2                            Beans - Retail\n",
       "3                            Beans - Retail\n",
       "4                            Beans - Retail\n",
       "                       ...                 \n",
       "4213      Sugar (white, fortified) - Retail\n",
       "4214                         Beans - Retail\n",
       "4215                         Maize - Retail\n",
       "4216               Oil (vegetable) - Retail\n",
       "4217    Maize meal (white, roller) - Retail\n",
       "Name: cmname, Length: 4218, dtype: object"
      ]
     },
     "execution_count": 15,
     "metadata": {},
     "output_type": "execute_result"
    }
   ],
   "source": [
    "df.cmname"
   ]
  }
: 16,
   "metadata": {}
: [
    {
     "data": {
      "text/html": [
       "<div>\n",
       "<style scoped>\n",
       "    .dataframe tbody tr th:only-of-type {\n",
       "        vertical-align: middle;\n",
       "    }\n",
       "\n",
       "    .dataframe tbody tr th {\n",
       "        vertical-align: top;\n",
       "    }\n",
       "\n",
       "    .dataframe thead th {\n",
       "        text-align: right;\n",
       "    }\n",
       "</style>\n",
       "<table border=\"1\" class=\"dataframe\">\n",
       "  <thead>\n",
       "    <tr style=\"text-align: right;\">\n",
       "      <th></th>\n",
       "      <th>cmname</th>\n",
       "      <th>unit</th>\n",
       "      <th>category</th>\n",
       "      <th>price</th>\n",
       "      <th>currency</th>\n",
       "      <th>country</th>\n",
       "    </tr>\n",
       "  </thead>\n",
       "  <tbody>\n",
       "    <tr>\n",
       "      <th>0</th>\n",
       "      <td>Beans - Retail</td>\n",
       "      <td>KG</td>\n",
       "      <td>pulses and nuts</td>\n",
       "      <td>1.40</td>\n",
       "      <td>USD</td>\n",
       "      <td>Zimbabwe</td>\n",
       "    </tr>\n",
       "    <tr>\n",
       "      <th>1</th>\n",
       "      <td>Beans - Retail</td>\n",
       "      <td>KG</td>\n",
       "      <td>pulses and nuts</td>\n",
       "      <td>1.40</td>\n",
       "      <td>USD</td>\n",
       "      <td>Zimbabwe</td>\n",
       "    </tr>\n",
       "    <tr>\n",
       "      <th>2</th>\n",
       "      <td>Beans - Retail</td>\n",
       "      <td>KG</td>\n",
       "      <td>pulses and nuts</td>\n",
       "      <td>1.40</td>\n",
       "      <td>USD</td>\n",
       "      <td>Zimbabwe</td>\n",
       "    </tr>\n",
       "    <tr>\n",
       "      <th>3</th>\n",
       "      <td>Beans - Retail</td>\n",
       "      <td>KG</td>\n",
       "      <td>pulses and nuts</td>\n",
       "      <td>1.40</td>\n",
       "      <td>USD</td>\n",
       "      <td>Zimbabwe</td>\n",
       "    </tr>\n",
       "    <tr>\n",
       "      <th>4</th>\n",
       "      <td>Beans - Retail</td>\n",
       "      <td>KG</td>\n",
       "      <td>pulses and nuts</td>\n",
       "      <td>1.40</td>\n",
       "      <td>USD</td>\n",
       "      <td>Zimbabwe</td>\n",
       "    </tr>\n",
       "    <tr>\n",
       "      <th>...</th>\n",
       "      <td>...</td>\n",
       "      <td>...</td>\n",
       "      <td>...</td>\n",
       "      <td>...</td>\n",
       "      <td>...</td>\n",
       "      <td>...</td>\n",
       "    </tr>\n",
       "    <tr>\n",
       "      <th>4213</th>\n",
       "      <td>Sugar (white, fortified) - Retail</td>\n",
       "      <td>KG</td>\n",
       "      <td>miscellaneous food</td>\n",
       "      <td>1.50</td>\n",
       "      <td>USD</td>\n",
       "      <td>Zimbabwe</td>\n",
       "    </tr>\n",
       "    <tr>\n",
       "      <th>4214</th>\n",
       "      <td>Beans - Retail</td>\n",
       "      <td>KG</td>\n",
       "      <td>pulses and nuts</td>\n",
       "      <td>2.80</td>\n",
       "      <td>USD</td>\n",
       "      <td>Zimbabwe</td>\n",
       "    </tr>\n",
       "    <tr>\n",
       "      <th>4215</th>\n",
       "      <td>Maize - Retail</td>\n",
       "      <td>KG</td>\n",
       "      <td>cereals and tubers</td>\n",
       "      <td>0.40</td>\n",
       "      <td>USD</td>\n",
       "      <td>Zimbabwe</td>\n",
       "    </tr>\n",
       "    <tr>\n",
       "      <th>4216</th>\n",
       "      <td>Oil (vegetable) - Retail</td>\n",
       "      <td>L</td>\n",
       "      <td>oil and fats</td>\n",
       "      <td>2.35</td>\n",
       "      <td>USD</td>\n",
       "      <td>Zimbabwe</td>\n",
       "    </tr>\n",
       "    <tr>\n",
       "      <th>4217</th>\n",
       "      <td>Maize meal (white, roller) - Retail</td>\n",
       "      <td>KG</td>\n",
       "      <td>cereals and tubers</td>\n",
       "      <td>0.55</td>\n",
       "      <td>USD</td>\n",
       "      <td>Zimbabwe</td>\n",
       "    </tr>\n",
       "  </tbody>\n",
       "</table>\n",
       "<p>4218 rows × 6 columns</p>\n",
       "</div>"
      ],
      "text/plain": [
       "                                   cmname unit            category  price  \\\n",
       "0                          Beans - Retail   KG     pulses and nuts   1.40   \n",
       "1                          Beans - Retail   KG     pulses and nuts   1.40   \n",
       "2                          Beans - Retail   KG     pulses and nuts   1.40   \n",
       "3                          Beans - Retail   KG     pulses and nuts   1.40   \n",
       "4                          Beans - Retail   KG     pulses and nuts   1.40   \n",
       "...                                   ...  ...                 ...    ...   \n",
       "4213    Sugar (white, fortified) - Retail   KG  miscellaneous food   1.50   \n",
       "4214                       Beans - Retail   KG     pulses and nuts   2.80   \n",
       "4215                       Maize - Retail   KG  cereals and tubers   0.40   \n",
       "4216             Oil (vegetable) - Retail    L        oil and fats   2.35   \n",
       "4217  Maize meal (white, roller) - Retail   KG  cereals and tubers   0.55   \n",
       "\n",
       "     currency   country  \n",
       "0         USD  Zimbabwe  \n",
       "1         USD  Zimbabwe  \n",
       "2         USD  Zimbabwe  \n",
       "3         USD  Zimbabwe  \n",
       "4         USD  Zimbabwe  \n",
       "...       ...       ...  \n",
       "4213      USD  Zimbabwe  \n",
       "4214      USD  Zimbabwe  \n",
       "4215      USD  Zimbabwe  \n",
       "4216      USD  Zimbabwe  \n",
       "4217      USD  Zimbabwe  \n",
       "\n",
       "[4218 rows x 6 columns]"
      ]
     },
     "execution_count": 16,
     "metadata": {},
     "output_type": "execute_result"
    }
],
   "source": [
    "df[['cmname','unit', 'category', 'price', 'currency', 'country']]"
   ]
  },
  {
   "cell_type": "markdown",
   "metadata": {},
   "source": [
    "## Data Filtering"
   ]
  }
: 17,
   "metadata": {}
: [
    {
     "data": {
      "text/html": [
       "<div>\n",
       "<style scoped>\n",
       "    .dataframe tbody tr th:only-of-type {\n",
       "        vertical-align: middle;\n",
       "    }\n",
       "\n",
       "    .dataframe tbody tr th {\n",
       "        vertical-align: top;\n",
       "    }\n",
       "\n",
       "    .dataframe thead th {\n",
       "        text-align: right;\n",
       "    }\n",
       "</style>\n",
       "<table border=\"1\" class=\"dataframe\">\n",
       "  <thead>\n",
       "    <tr style=\"text-align: right;\">\n",
       "      <th></th>\n",
       "      <th>date</th>\n",
       "      <th>cmname</th>\n",
       "      <th>unit</th>\n",
       "      <th>category</th>\n",
       "      <th>price</th>\n",
       "      <th>currency</th>\n",
       "      <th>country</th>\n",
       "      <th>admname</th>\n",
       "      <th>adm1id</th>\n",
       "      <th>mktname</th>\n",
       "      <th>mktid</th>\n",
       "      <th>cmid</th>\n",
       "      <th>ptid</th>\n",
       "      <th>umid</th>\n",
       "      <th>catid</th>\n",
       "      <th>sn</th>\n",
       "      <th>default</th>\n",
       "    </tr>\n",
       "  </thead>\n",
       "  <tbody>\n",
       "    <tr>\n",
       "      <th>0</th>\n",
       "      <td>15/9/2014</td>\n",
       "      <td>Beans - Retail</td>\n",
       "      <td>KG</td>\n",
       "      <td>pulses and nuts</td>\n",
       "      <td>1.4</td>\n",
       "      <td>USD</td>\n",
       "      <td>Zimbabwe</td>\n",
       "      <td>Bulawayo</td>\n",
       "      <td>3435</td>\n",
       "      <td>Renkini Bus Terminus</td>\n",
       "      <td>715</td>\n",
       "      <td>50</td>\n",
       "      <td>15</td>\n",
       "      <td>5</td>\n",
       "      <td>5</td>\n",
       "      <td>715_50_15_5</td>\n",
       "      <td>NaN</td>\n",
       "    </tr>\n",
       "    <tr>\n",
       "      <th>1</th>\n",
       "      <td>15/10/2014</td>\n",
       "      <td>Beans - Retail</td>\n",
       "      <td>KG</td>\n",
       "      <td>pulses and nuts</td>\n",
       "      <td>1.4</td>\n",
       "      <td>USD</td>\n",
       "      <td>Zimbabwe</td>\n",
       "      <td>Bulawayo</td>\n",
       "      <td>3435</td>\n",
       "      <td>Renkini Bus Terminus</td>\n",
       "      <td>715</td>\n",
       "      <td>50</td>\n",
       "      <td>15</td>\n",
       "      <td>5</td>\n",
       "      <td>5</td>\n",
       "      <td>715_50_15_5</td>\n",
       "      <td>NaN</td>\n",
       "    </tr>\n",
       "    <tr>\n",
       "      <th>2</th>\n",
       "      <td>15/11/2014</td>\n",
       "      <td>Beans - Retail</td>\n",
       "      <td>KG</td>\n",
       "      <td>pulses and nuts</td>\n",
       "      <td>1.4</td>\n",
       "      <td>USD</td>\n",
       "      <td>Zimbabwe</td>\n",
       "      <td>Bulawayo</td>\n",
       "      <td>3435</td>\n",
       "      <td>Renkini Bus Terminus</td>\n",
       "      <td>715</td>\n",
       "      <td>50</td>\n",
       "      <td>15</td>\n",
       "      <td>5</td>\n",
       "      <td>5</td>\n",
       "      <td>715_50_15_5</td>\n",
       "      <td>NaN</td>\n",
       "    </tr>\n",
       "    <tr>\n",
       "      <th>3</th>\n",
       "      <td>15/12/2014</td>\n",
       "      <td>Beans - Retail</td>\n",
       "      <td>KG</td>\n",
       "      <td>pulses and nuts</td>\n",
       "      <td>1.4</td>\n",
       "      <td>USD</td>\n",
       "      <td>Zimbabwe</td>\n",
       "      <td>Bulawayo</td>\n",
       "      <td>3435</td>\n",
       "      <td>Renkini Bus Terminus</td>\n",
       "      <td>715</td>\n",
       "      <td>50</td>\n",
       "      <td>15</td>\n",
       "      <td>5</td>\n",
       "      <td>5</td>\n",
       "      <td>715_50_15_5</td>\n",
       "      <td>NaN</td>\n",
       "    </tr>\n",
       "    <tr>\n",
       "      <th>4</th>\n",
       "      <td>15/2/2015</td>\n",
       "      <td>Beans - Retail</td>\n",
       "      <td>KG</td>\n",
       "      <td>pulses and nuts</td>\n",
       "      <td>1.4</td>\n",
       "      <td>USD</td>\n",
       "      <td>Zimbabwe</td>\n",
       "      <td>Bulawayo</td>\n",
       "      <td>3435</td>\n",
       "      <td>Renkini Bus Terminus</td>\n",
       "      <td>715</td>\n",
       "      <td>50</td>\n",
       "      <td>15</td>\n",
       "      <td>5</td>\n",
       "      <td>5</td>\n",
       "      <td>715_50_15_5</td>\n",
       "      <td>NaN</td>\n",
       "    </tr>\n",
       "  </tbody>\n",
       "</table>\n",
       "</div>"
      ],
      "text/plain": [
       "         date          cmname unit         category  price currency   country  \\\n",
       "0   15/9/2014  Beans - Retail   KG  pulses and nuts    1.4      USD  Zimbabwe   \n",
       "1  15/10/2014  Beans - Retail   KG  pulses and nuts    1.4      USD  Zimbabwe   \n",
       "2  15/11/2014  Beans - Retail   KG  pulses and nuts    1.4      USD  Zimbabwe   \n",
       "3  15/12/2014  Beans - Retail   KG  pulses and nuts    1.4      USD  Zimbabwe   \n",
       "4   15/2/2015  Beans - Retail   KG  pulses and nuts    1.4      USD  Zimbabwe   \n",
       "\n",
       "    admname  adm1id               mktname  mktid  cmid  ptid  umid  catid  \\\n",
       "0  Bulawayo    3435  Renkini Bus Terminus    715    50    15     5      5   \n",
       "1  Bulawayo    3435  Renkini Bus Terminus    715    50    15     5      5   \n",
       "2  Bulawayo    3435  Renkini Bus Terminus    715    50    15     5      5   \n",
       "3  Bulawayo    3435  Renkini Bus Terminus    715    50    15     5      5   \n",
       "4  Bulawayo    3435  Renkini Bus Terminus    715    50    15     5      5   \n",
       "\n",
       "            sn  default  \n",
       "0  715_50_15_5      NaN  \n",
       "1  715_50_15_5      NaN  \n",
       "2  715_50_15_5      NaN  \n",
       "3  715_50_15_5      NaN  \n",
       "4  715_50_15_5      NaN  "
      ]
     },
     "execution_count": 17,
     "metadata": {},
     "output_type": "execute_result"
    }
],
   "source": [
    "df.head()"
   ]
  },
  {
   "cell_type": "code",
   "execution_count": 18,
   "metadata": {},
   "outputs": [
    {
     "data": {
      "text/plain": [
       "array(['Bulawayo', 'Harare', 'Manicaland', 'Mashonaland Central',\n",
       "       'Mashonaland East', 'Mashonaland West', 'Masvingo',\n",
       "       'Matabeleland North', 'Matabeleland South', 'Midlands'],\n",
       "      dtype=object)"
      ]
     },
     "execution_count": 18,
     "metadata": {},
     "output_type": "execute_result"
    }
   ],
   "source": [
    "df.admname.unique()"
   ]
  }
: 22,
   "metadata": {}
: [
    {
     "data": {
      "text/html": [
       "<div>\n",
       "<style scoped>\n",
       "    .dataframe tbody tr th:only-of-type {\n",
       "        vertical-align: middle;\n",
       "    }\n",
       "\n",
       "    .dataframe tbody tr th {\n",
       "        vertical-align: top;\n",
       "    }\n",
       "\n",
       "    .dataframe thead th {\n",
       "        text-align: right;\n",
       "    }\n",
       "</style>\n",
       "<table border=\"1\" class=\"dataframe\">\n",
       "  <thead>\n",
       "    <tr style=\"text-align: right;\">\n",
       "      <th></th>\n",
       "      <th>date</th>\n",
       "      <th>cmname</th>\n",
       "      <th>unit</th>\n",
       "      <th>category</th>\n",
       "      <th>price</th>\n",
       "      <th>currency</th>\n",
       "      <th>country</th>\n",
       "      <th>admname</th>\n",
       "      <th>adm1id</th>\n",
       "      <th>mktname</th>\n",
       "      <th>mktid</th>\n",
       "      <th>cmid</th>\n",
       "      <th>ptid</th>\n",
       "      <th>umid</th>\n",
       "      <th>catid</th>\n",
       "      <th>sn</th>\n",
       "      <th>default</th>\n",
       "    </tr>\n",
       "  </thead>\n",
       "  <tbody>\n",
       "    <tr>\n",
       "      <th>286</th>\n",
       "      <td>15/8/2014</td>\n",
       "      <td>Beans - Retail</td>\n",
       "      <td>KG</td>\n",
       "      <td>pulses and nuts</td>\n",
       "      <td>2.00</td>\n",
       "      <td>USD</td>\n",
       "      <td>Zimbabwe</td>\n",
       "      <td>Harare</td>\n",
       "      <td>3436</td>\n",
       "      <td>Mbare</td>\n",
       "      <td>708</td>\n",
       "      <td>50</td>\n",
       "      <td>15</td>\n",
       "      <td>5</td>\n",
       "      <td>5</td>\n",
       "      <td>708_50_15_5</td>\n",
       "      <td>NaN</td>\n",
       "    </tr>\n",
       "    <tr>\n",
       "      <th>287</th>\n",
       "      <td>15/9/2014</td>\n",
       "      <td>Beans - Retail</td>\n",
       "      <td>KG</td>\n",
       "      <td>pulses and nuts</td>\n",
       "      <td>1.98</td>\n",
       "      <td>USD</td>\n",
       "      <td>Zimbabwe</td>\n",
       "      <td>Harare</td>\n",
       "      <td>3436</td>\n",
       "      <td>Mbare</td>\n",
       "      <td>708</td>\n",
       "      <td>50</td>\n",
       "      <td>15</td>\n",
       "      <td>5</td>\n",
       "      <td>5</td>\n",
       "      <td>708_50_15_5</td>\n",
       "      <td>NaN</td>\n",
       "    </tr>\n",
       "    <tr>\n",
       "      <th>288</th>\n",
       "      <td>15/10/2014</td>\n",
       "      <td>Beans - Retail</td>\n",
       "      <td>KG</td>\n",
       "      <td>pulses and nuts</td>\n",
       "      <td>1.98</td>\n",
       "      <td>USD</td>\n",
       "      <td>Zimbabwe</td>\n",
       "      <td>Harare</td>\n",
       "      <td>3436</td>\n",
       "      <td>Mbare</td>\n",
       "      <td>708</td>\n",
       "      <td>50</td>\n",
       "      <td>15</td>\n",
       "      <td>5</td>\n",
       "      <td>5</td>\n",
       "      <td>708_50_15_5</td>\n",
       "      <td>NaN</td>\n",
       "    </tr>\n",
       "    <tr>\n",
       "      <th>289</th>\n",
       "      <td>15/11/2014</td>\n",
       "      <td>Beans - Retail</td>\n",
       "      <td>KG</td>\n",
       "      <td>pulses and nuts</td>\n",
       "      <td>1.98</td>\n",
       "      <td>USD</td>\n",
       "      <td>Zimbabwe</td>\n",
       "      <td>Harare</td>\n",
       "      <td>3436</td>\n",
       "      <td>Mbare</td>\n",
       "      <td>708</td>\n",
       "      <td>50</td>\n",
       "      <td>15</td>\n",
       "      <td>5</td>\n",
       "      <td>5</td>\n",
       "      <td>708_50_15_5</td>\n",
       "      <td>NaN</td>\n",
       "    </tr>\n",
       "    <tr>\n",
       "      <th>290</th>\n",
       "      <td>15/12/2014</td>\n",
       "      <td>Beans - Retail</td>\n",
       "      <td>KG</td>\n",
       "      <td>pulses and nuts</td>\n",
       "      <td>1.92</td>\n",
       "      <td>USD</td>\n",
       "      <td>Zimbabwe</td>\n",
       "      <td>Harare</td>\n",
       "      <td>3436</td>\n",
       "      <td>Mbare</td>\n",
       "      <td>708</td>\n",
       "      <td>50</td>\n",
       "      <td>15</td>\n",
       "      <td>5</td>\n",
       "      <td>5</td>\n",
       "      <td>708_50_15_5</td>\n",
       "      <td>NaN</td>\n",
       "    </tr>\n",
       "    <tr>\n",
       "      <th>...</th>\n",
       "      <td>...</td>\n",
       "      <td>...</td>\n",
       "      <td>...</td>\n",
       "      <td>...</td>\n",
       "      <td>...</td>\n",
       "      <td>...</td>\n",
       "      <td>...</td>\n",
       "      <td>...</td>\n",
       "      <td>...</td>\n",
       "      <td>...</td>\n",
       "      <td>...</td>\n",
       "      <td>...</td>\n",
       "      <td>...</td>\n",
       "      <td>...</td>\n",
       "      <td>...</td>\n",
       "      <td>...</td>\n",
       "      <td>...</td>\n",
       "    </tr>\n",
       "    <tr>\n",
       "      <th>602</th>\n",
       "      <td>15/3/2017</td>\n",
       "      <td>Maize meal (white, roller) - Retail</td>\n",
       "      <td>KG</td>\n",
       "      <td>cereals and tubers</td>\n",
       "      <td>0.66</td>\n",
       "      <td>USD</td>\n",
       "      <td>Zimbabwe</td>\n",
       "      <td>Harare</td>\n",
       "      <td>3436</td>\n",
       "      <td>Mbare</td>\n",
       "      <td>708</td>\n",
       "      <td>264</td>\n",
       "      <td>15</td>\n",
       "      <td>5</td>\n",
       "      <td>1</td>\n",
       "      <td>708_264_15_5</td>\n",
       "      <td>NaN</td>\n",
       "    </tr>\n",
       "    <tr>\n",
       "      <th>603</th>\n",
       "      <td>15/4/2017</td>\n",
       "      <td>Maize meal (white, roller) - Retail</td>\n",
       "      <td>KG</td>\n",
       "      <td>cereals and tubers</td>\n",
       "      <td>0.66</td>\n",
       "      <td>USD</td>\n",
       "      <td>Zimbabwe</td>\n",
       "      <td>Harare</td>\n",
       "      <td>3436</td>\n",
       "      <td>Mbare</td>\n",
       "      <td>708</td>\n",
       "      <td>264</td>\n",
       "      <td>15</td>\n",
       "      <td>5</td>\n",
       "      <td>1</td>\n",
       "      <td>708_264_15_5</td>\n",
       "      <td>NaN</td>\n",
       "    </tr>\n",
       "    <tr>\n",
       "      <th>604</th>\n",
       "      <td>15/5/2017</td>\n",
       "      <td>Maize meal (white, roller) - Retail</td>\n",
       "      <td>KG</td>\n",
       "      <td>cereals and tubers</td>\n",
       "      <td>0.60</td>\n",
       "      <td>USD</td>\n",
       "      <td>Zimbabwe</td>\n",
       "      <td>Harare</td>\n",
       "      <td>3436</td>\n",
       "      <td>Mbare</td>\n",
       "      <td>708</td>\n",
       "      <td>264</td>\n",
       "      <td>15</td>\n",
       "      <td>5</td>\n",
       "      <td>1</td>\n",
       "      <td>708_264_15_5</td>\n",
       "      <td>NaN</td>\n",
       "    </tr>\n",
       "    <tr>\n",
       "      <th>605</th>\n",
       "      <td>15/6/2017</td>\n",
       "      <td>Maize meal (white, roller) - Retail</td>\n",
       "      <td>KG</td>\n",
       "      <td>cereals and tubers</td>\n",
       "      <td>0.65</td>\n",
       "      <td>USD</td>\n",
       "      <td>Zimbabwe</td>\n",
       "      <td>Harare</td>\n",
       "      <td>3436</td>\n",
       "      <td>Mbare</td>\n",
       "      <td>708</td>\n",
       "      <td>264</td>\n",
       "      <td>15</td>\n",
       "      <td>5</td>\n",
       "      <td>1</td>\n",
       "      <td>708_264_15_5</td>\n",
       "      <td>NaN</td>\n",
       "    </tr>\n",
       "    <tr>\n",
       "      <th>606</th>\n",
       "      <td>15/7/2017</td>\n",
       "      <td>Maize meal (white, roller) - Retail</td>\n",
       "      <td>KG</td>\n",
       "      <td>cereals and tubers</td>\n",
       "      <td>0.58</td>\n",
       "      <td>USD</td>\n",
       "      <td>Zimbabwe</td>\n",
       "      <td>Harare</td>\n",
       "      <td>3436</td>\n",
       "      <td>Mbare</td>\n",
       "      <td>708</td>\n",
       "      <td>264</td>\n",
       "      <td>15</td>\n",
       "      <td>5</td>\n",
       "      <td>1</td>\n",
       "      <td>708_264_15_5</td>\n",
       "      <td>NaN</td>\n",
       "    </tr>\n",
       "  </tbody>\n",
       "</table>\n",
       "<p>321 rows × 17 columns</p>\n",
       "</div>"
      ],
      "text/plain": [
       "           date                               cmname unit            category  \\\n",
       "286   15/8/2014                       Beans - Retail   KG     pulses and nuts   \n",
       "287   15/9/2014                       Beans - Retail   KG     pulses and nuts   \n",
       "288  15/10/2014                       Beans - Retail   KG     pulses and nuts   \n",
       "289  15/11/2014                       Beans - Retail   KG     pulses and nuts   \n",
       "290  15/12/2014                       Beans - Retail   KG     pulses and nuts   \n",
       "..          ...                                  ...  ...                 ...   \n",
       "602   15/3/2017  Maize meal (white, roller) - Retail   KG  cereals and tubers   \n",
       "603   15/4/2017  Maize meal (white, roller) - Retail   KG  cereals and tubers   \n",
       "604   15/5/2017  Maize meal (white, roller) - Retail   KG  cereals and tubers   \n",
       "605   15/6/2017  Maize meal (white, roller) - Retail   KG  cereals and tubers   \n",
       "606   15/7/2017  Maize meal (white, roller) - Retail   KG  cereals and tubers   \n",
       "\n",
       "     price currency   country admname  adm1id mktname  mktid  cmid  ptid  \\\n",
       "286   2.00      USD  Zimbabwe  Harare    3436   Mbare    708    50    15   \n",
       "287   1.98      USD  Zimbabwe  Harare    3436   Mbare    708    50    15   \n",
       "288   1.98      USD  Zimbabwe  Harare    3436   Mbare    708    50    15   \n",
       "289   1.98      USD  Zimbabwe  Harare    3436   Mbare    708    50    15   \n",
       "290   1.92      USD  Zimbabwe  Harare    3436   Mbare    708    50    15   \n",
       "..     ...      ...       ...     ...     ...     ...    ...   ...   ...   \n",
       "602   0.66      USD  Zimbabwe  Harare    3436   Mbare    708   264    15   \n",
       "603   0.66      USD  Zimbabwe  Harare    3436   Mbare    708   264    15   \n",
       "604   0.60      USD  Zimbabwe  Harare    3436   Mbare    708   264    15   \n",
       "605   0.65      USD  Zimbabwe  Harare    3436   Mbare    708   264    15   \n",
       "606   0.58      USD  Zimbabwe  Harare    3436   Mbare    708   264    15   \n",
       "\n",
       "     umid  catid            sn  default  \n",
       "286     5      5   708_50_15_5      NaN  \n",
       "287     5      5   708_50_15_5      NaN  \n",
       "288     5      5   708_50_15_5      NaN  \n",
       "289     5      5   708_50_15_5      NaN  \n",
       "290     5      5   708_50_15_5      NaN  \n",
       "..    ...    ...           ...      ...  \n",
       "602     5      1  708_264_15_5      NaN  \n",
       "603     5      1  708_264_15_5      NaN  \n",
       "604     5      1  708_264_15_5      NaN  \n",
       "605     5      1  708_264_15_5      NaN  \n",
       "606     5      1  708_264_15_5      NaN  \n",
       "\n",
       "[321 rows x 17 columns]"
      ]
     },
     "execution_count": 22,
     "metadata": {},
     "output_type": "execute_result"
    }
],
   "source": [
    "df[df['admname']=='Harare']"
   ]
  },
  {
   "cell_type": "code",
   "execution_count": 23,
   "metadata": {},
   "outputs": [
    {
     "data": {
      "text/html": [
       "<div>\n",
       "<style scoped>\n",
       "    .dataframe tbody tr th:only-of-type {\n",
       "        vertical-align: middle;\n",
       "    }\n",
       "\n",
       "    .dataframe tbody tr th {\n",
       "        vertical-align: top;\n",
       "    }\n",
       "\n",
       "    .dataframe thead th {\n",
       "        text-align: right;\n",
       "    }\n",
       "</style>\n",
       "<table border=\"1\" class=\"dataframe\">\n",
       "  <thead>\n",
       "    <tr style=\"text-align: right;\">\n",
       "      <th></th>\n",
       "      <th>date</th>\n",
       "      <th>cmname</th>\n",
       "      <th>unit</th>\n",
       "      <th>category</th>\n",
       "      <th>price</th>\n",
       "      <th>currency</th>\n",
       "      <th>country</th>\n",
       "      <th>admname</th>\n",
       "      <th>adm1id</th>\n",
       "      <th>mktname</th>\n",
       "      <th>mktid</th>\n",
       "      <th>cmid</th>\n",
       "      <th>ptid</th>\n",
       "      <th>umid</th>\n",
       "      <th>catid</th>\n",
       "      <th>sn</th>\n",
       "      <th>default</th>\n",
       "    </tr>\n",
       "  </thead>\n",
       "  <tbody>\n",
       "    <tr>\n",
       "      <th>286</th>\n",
       "      <td>15/8/2014</td>\n",
       "      <td>Beans - Retail</td>\n",
       "      <td>KG</td>\n",
       "      <td>pulses and nuts</td>\n",
       "      <td>2.00</td>\n",
       "      <td>USD</td>\n",
       "      <td>Zimbabwe</td>\n",
       "      <td>Harare</td>\n",
       "      <td>3436</td>\n",
       "      <td>Mbare</td>\n",
       "      <td>708</td>\n",
       "      <td>50</td>\n",
       "      <td>15</td>\n",
       "      <td>5</td>\n",
       "      <td>5</td>\n",
       "      <td>708_50_15_5</td>\n",
       "      <td>NaN</td>\n",
       "    </tr>\n",
       "    <tr>\n",
       "      <th>287</th>\n",
       "      <td>15/9/2014</td>\n",
       "      <td>Beans - Retail</td>\n",
       "      <td>KG</td>\n",
       "      <td>pulses and nuts</td>\n",
       "      <td>1.98</td>\n",
       "      <td>USD</td>\n",
       "      <td>Zimbabwe</td>\n",
       "      <td>Harare</td>\n",
       "      <td>3436</td>\n",
       "      <td>Mbare</td>\n",
       "      <td>708</td>\n",
       "      <td>50</td>\n",
       "      <td>15</td>\n",
       "      <td>5</td>\n",
       "      <td>5</td>\n",
       "      <td>708_50_15_5</td>\n",
       "      <td>NaN</td>\n",
       "    </tr>\n",
       "    <tr>\n",
       "      <th>288</th>\n",
       "      <td>15/10/2014</td>\n",
       "      <td>Beans - Retail</td>\n",
       "      <td>KG</td>\n",
       "      <td>pulses and nuts</td>\n",
       "      <td>1.98</td>\n",
       "      <td>USD</td>\n",
       "      <td>Zimbabwe</td>\n",
       "      <td>Harare</td>\n",
       "      <td>3436</td>\n",
       "      <td>Mbare</td>\n",
       "      <td>708</td>\n",
       "      <td>50</td>\n",
       "      <td>15</td>\n",
       "      <td>5</td>\n",
       "      <td>5</td>\n",
       "      <td>708_50_15_5</td>\n",
       "      <td>NaN</td>\n",
       "    </tr>\n",
       "    <tr>\n",
       "      <th>289</th>\n",
       "      <td>15/11/2014</td>\n",
       "      <td>Beans - Retail</td>\n",
       "      <td>KG</td>\n",
       "      <td>pulses and nuts</td>\n",
       "      <td>1.98</td>\n",
       "      <td>USD</td>\n",
       "      <td>Zimbabwe</td>\n",
       "      <td>Harare</td>\n",
       "      <td>3436</td>\n",
       "      <td>Mbare</td>\n",
       "      <td>708</td>\n",
       "      <td>50</td>\n",
       "      <td>15</td>\n",
       "      <td>5</td>\n",
       "      <td>5</td>\n",
       "      <td>708_50_15_5</td>\n",
       "      <td>NaN</td>\n",
       "    </tr>\n",
       "    <tr>\n",
       "      <th>290</th>\n",
       "      <td>15/12/2014</td>\n",
       "      <td>Beans - Retail</td>\n",
       "      <td>KG</td>\n",
       "      <td>pulses and nuts</td>\n",
       "      <td>1.92</td>\n",
       "      <td>USD</td>\n",
       "      <td>Zimbabwe</td>\n",
       "      <td>Harare</td>\n",
       "      <td>3436</td>\n",
       "      <td>Mbare</td>\n",
       "      <td>708</td>\n",
       "      <td>50</td>\n",
       "      <td>15</td>\n",
       "      <td>5</td>\n",
       "      <td>5</td>\n",
       "      <td>708_50_15_5</td>\n",
       "      <td>NaN</td>\n",
       "    </tr>\n",
       "    <tr>\n",
       "      <th>...</th>\n",
       "      <td>...</td>\n",
       "      <td>...</td>\n",
       "      <td>...</td>\n",
       "      <td>...</td>\n",
       "      <td>...</td>\n",
       "      <td>...</td>\n",
       "      <td>...</td>\n",
       "      <td>...</td>\n",
       "      <td>...</td>\n",
       "      <td>...</td>\n",
       "      <td>...</td>\n",
       "      <td>...</td>\n",
       "      <td>...</td>\n",
       "      <td>...</td>\n",
       "      <td>...</td>\n",
       "      <td>...</td>\n",
       "      <td>...</td>\n",
       "    </tr>\n",
       "    <tr>\n",
       "      <th>602</th>\n",
       "      <td>15/3/2017</td>\n",
       "      <td>Maize meal (white, roller) - Retail</td>\n",
       "      <td>KG</td>\n",
       "      <td>cereals and tubers</td>\n",
       "      <td>0.66</td>\n",
       "      <td>USD</td>\n",
       "      <td>Zimbabwe</td>\n",
       "      <td>Harare</td>\n",
       "      <td>3436</td>\n",
       "      <td>Mbare</td>\n",
       "      <td>708</td>\n",
       "      <td>264</td>\n",
       "      <td>15</td>\n",
       "      <td>5</td>\n",
       "      <td>1</td>\n",
       "      <td>708_264_15_5</td>\n",
       "      <td>NaN</td>\n",
       "    </tr>\n",
       "    <tr>\n",
       "      <th>603</th>\n",
       "      <td>15/4/2017</td>\n",
       "      <td>Maize meal (white, roller) - Retail</td>\n",
       "      <td>KG</td>\n",
       "      <td>cereals and tubers</td>\n",
       "      <td>0.66</td>\n",
       "      <td>USD</td>\n",
       "      <td>Zimbabwe</td>\n",
       "      <td>Harare</td>\n",
       "      <td>3436</td>\n",
       "      <td>Mbare</td>\n",
       "      <td>708</td>\n",
       "      <td>264</td>\n",
       "      <td>15</td>\n",
       "      <td>5</td>\n",
       "      <td>1</td>\n",
       "      <td>708_264_15_5</td>\n",
       "      <td>NaN</td>\n",
       "    </tr>\n",
       "    <tr>\n",
       "      <th>604</th>\n",
       "      <td>15/5/2017</td>\n",
       "      <td>Maize meal (white, roller) - Retail</td>\n",
       "      <td>KG</td>\n",
       "      <td>cereals and tubers</td>\n",
       "      <td>0.60</td>\n",
       "      <td>USD</td>\n",
       "      <td>Zimbabwe</td>\n",
       "      <td>Harare</td>\n",
       "      <td>3436</td>\n",
       "      <td>Mbare</td>\n",
       "      <td>708</td>\n",
       "      <td>264</td>\n",
       "      <td>15</td>\n",
       "      <td>5</td>\n",
       "      <td>1</td>\n",
       "      <td>708_264_15_5</td>\n",
       "      <td>NaN</td>\n",
       "    </tr>\n",
       "    <tr>\n",
       "      <th>605</th>\n",
       "      <td>15/6/2017</td>\n",
       "      <td>Maize meal (white, roller) - Retail</td>\n",
       "      <td>KG</td>\n",
       "      <td>cereals and tubers</td>\n",
       "      <td>0.65</td>\n",
       "      <td>USD</td>\n",
       "      <td>Zimbabwe</td>\n",
       "      <td>Harare</td>\n",
       "      <td>3436</td>\n",
       "      <td>Mbare</td>\n",
       "      <td>708</td>\n",
       "      <td>264</td>\n",
       "      <td>15</td>\n",
       "      <td>5</td>\n",
       "      <td>1</td>\n",
       "      <td>708_264_15_5</td>\n",
       "      <td>NaN</td>\n",
       "    </tr>\n",
       "    <tr>\n",
       "      <th>606</th>\n",
       "      <td>15/7/2017</td>\n",
       "      <td>Maize meal (white, roller) - Retail</td>\n",
       "      <td>KG</td>\n",
       "      <td>cereals and tubers</td>\n",
       "      <td>0.58</td>\n",
       "      <td>USD</td>\n",
       "      <td>Zimbabwe</td>\n",
       "      <td>Harare</td>\n",
       "      <td>3436</td>\n",
       "      <td>Mbare</td>\n",
       "      <td>708</td>\n",
       "      <td>264</td>\n",
       "      <td>15</td>\n",
       "      <td>5</td>\n",
       "      <td>1</td>\n",
       "      <td>708_264_15_5</td>\n",
       "      <td>NaN</td>\n",
       "    </tr>\n",
       "  </tbody>\n",
       "</table>\n",
       "<p>321 rows × 17 columns</p>\n",
       "</div>"
      ],
      "text/plain": [
       "           date                               cmname unit            category  \\\n",
       "286   15/8/2014                       Beans - Retail   KG     pulses and nuts   \n",
       "287   15/9/2014                       Beans - Retail   KG     pulses and nuts   \n",
       "288  15/10/2014                       Beans - Retail   KG     pulses and nuts   \n",
       "289  15/11/2014                       Beans - Retail   KG     pulses and nuts   \n",
       "290  15/12/2014                       Beans - Retail   KG     pulses and nuts   \n",
       "..          ...                                  ...  ...                 ...   \n",
       "602   15/3/2017  Maize meal (white, roller) - Retail   KG  cereals and tubers   \n",
       "603   15/4/2017  Maize meal (white, roller) - Retail   KG  cereals and tubers   \n",
       "604   15/5/2017  Maize meal (white, roller) - Retail   KG  cereals and tubers   \n",
       "605   15/6/2017  Maize meal (white, roller) - Retail   KG  cereals and tubers   \n",
       "606   15/7/2017  Maize meal (white, roller) - Retail   KG  cereals and tubers   \n",
       "\n",
       "     price currency   country admname  adm1id mktname  mktid  cmid  ptid  \\\n",
       "286   2.00      USD  Zimbabwe  Harare    3436   Mbare    708    50    15   \n",
       "287   1.98      USD  Zimbabwe  Harare    3436   Mbare    708    50    15   \n",
       "288   1.98      USD  Zimbabwe  Harare    3436   Mbare    708    50    15   \n",
       "289   1.98      USD  Zimbabwe  Harare    3436   Mbare    708    50    15   \n",
       "290   1.92      USD  Zimbabwe  Harare    3436   Mbare    708    50    15   \n",
       "..     ...      ...       ...     ...     ...     ...    ...   ...   ...   \n",
       "602   0.66      USD  Zimbabwe  Harare    3436   Mbare    708   264    15   \n",
       "603   0.66      USD  Zimbabwe  Harare    3436   Mbare    708   264    15   \n",
       "604   0.60      USD  Zimbabwe  Harare    3436   Mbare    708   264    15   \n",
       "605   0.65      USD  Zimbabwe  Harare    3436   Mbare    708   264    15   \n",
       "606   0.58      USD  Zimbabwe  Harare    3436   Mbare    708   264    15   \n",
       "\n",
       "     umid  catid            sn  default  \n",
       "286     5      5   708_50_15_5      NaN  \n",
       "287     5      5   708_50_15_5      NaN  \n",
       "288     5      5   708_50_15_5      NaN  \n",
       "289     5      5   708_50_15_5      NaN  \n",
       "290     5      5   708_50_15_5      NaN  \n",
       "..    ...    ...           ...      ...  \n",
       "602     5      1  708_264_15_5      NaN  \n",
       "603     5      1  708_264_15_5      NaN  \n",
       "604     5      1  708_264_15_5      NaN  \n",
       "605     5      1  708_264_15_5      NaN  \n",
       "606     5      1  708_264_15_5      NaN  \n",
       "\n",
       "[321 rows x 17 columns]"
      ]
     },
     "execution_count": 23,
     "metadata": {},
     "output_type": "execute_result"
    }
   ],
   "source": [
    "df[df.admname=='Harare']"
   ]
  }
: 25,
   "metadata": {}
: [],
   "source": [
    "dfHarare=df[df.admname=='Harare']\n",
    "dfHarare.to_csv('dfharare.csv')"
   ]
  },
  {
   "cell_type": "code",
   "execution_count": 26,
   "metadata": {},
   "outputs": [
    {
     "data": {
      "text/html": [
       "<div>\n",
       "<style scoped>\n",
       "    .dataframe tbody tr th:only-of-type {\n",
       "        vertical-align: middle;\n",
       "    }\n",
       "\n",
       "    .dataframe tbody tr th {\n",
       "        vertical-align: top;\n",
       "    }\n",
       "\n",
       "    .dataframe thead th {\n",
       "        text-align: right;\n",
       "    }\n",
       "</style>\n",
       "<table border=\"1\" class=\"dataframe\">\n",
       "  <thead>\n",
       "    <tr style=\"text-align: right;\">\n",
       "      <th></th>\n",
       "      <th>date</th>\n",
       "      <th>cmname</th>\n",
       "      <th>unit</th>\n",
       "      <th>category</th>\n",
       "      <th>price</th>\n",
       "      <th>currency</th>\n",
       "      <th>country</th>\n",
       "      <th>admname</th>\n",
       "      <th>adm1id</th>\n",
       "      <th>mktname</th>\n",
       "      <th>mktid</th>\n",
       "      <th>cmid</th>\n",
       "      <th>ptid</th>\n",
       "      <th>umid</th>\n",
       "      <th>catid</th>\n",
       "      <th>sn</th>\n",
       "      <th>default</th>\n",
       "    </tr>\n",
       "  </thead>\n",
       "  <tbody>\n",
       "    <tr>\n",
       "      <th>286</th>\n",
       "      <td>15/8/2014</td>\n",
       "      <td>Beans - Retail</td>\n",
       "      <td>KG</td>\n",
       "      <td>pulses and nuts</td>\n",
       "      <td>2.00</td>\n",
       "      <td>USD</td>\n",
       "      <td>Zimbabwe</td>\n",
       "      <td>Harare</td>\n",
       "      <td>3436</td>\n",
       "      <td>Mbare</td>\n",
       "      <td>708</td>\n",
       "      <td>50</td>\n",
       "      <td>15</td>\n",
       "      <td>5</td>\n",
       "      <td>5</td>\n",
       "      <td>708_50_15_5</td>\n",
       "      <td>NaN</td>\n",
       "    </tr>\n",
       "    <tr>\n",
       "      <th>287</th>\n",
       "      <td>15/9/2014</td>\n",
       "      <td>Beans - Retail</td>\n",
       "      <td>KG</td>\n",
       "      <td>pulses and nuts</td>\n",
       "      <td>1.98</td>\n",
       "      <td>USD</td>\n",
       "      <td>Zimbabwe</td>\n",
       "      <td>Harare</td>\n",
       "      <td>3436</td>\n",
       "      <td>Mbare</td>\n",
       "      <td>708</td>\n",
       "      <td>50</td>\n",
       "      <td>15</td>\n",
       "      <td>5</td>\n",
       "      <td>5</td>\n",
       "      <td>708_50_15_5</td>\n",
       "      <td>NaN</td>\n",
       "    </tr>\n",
       "    <tr>\n",
       "      <th>288</th>\n",
       "      <td>15/10/2014</td>\n",
       "      <td>Beans - Retail</td>\n",
       "      <td>KG</td>\n",
       "      <td>pulses and nuts</td>\n",
       "      <td>1.98</td>\n",
       "      <td>USD</td>\n",
       "      <td>Zimbabwe</td>\n",
       "      <td>Harare</td>\n",
       "      <td>3436</td>\n",
       "      <td>Mbare</td>\n",
       "      <td>708</td>\n",
       "      <td>50</td>\n",
       "      <td>15</td>\n",
       "      <td>5</td>\n",
       "      <td>5</td>\n",
       "      <td>708_50_15_5</td>\n",
       "      <td>NaN</td>\n",
       "    </tr>\n",
       "    <tr>\n",
       "      <th>289</th>\n",
       "      <td>15/11/2014</td>\n",
       "      <td>Beans - Retail</td>\n",
       "      <td>KG</td>\n",
       "      <td>pulses and nuts</td>\n",
       "      <td>1.98</td>\n",
       "      <td>USD</td>\n",
       "      <td>Zimbabwe</td>\n",
       "      <td>Harare</td>\n",
       "      <td>3436</td>\n",
       "      <td>Mbare</td>\n",
       "      <td>708</td>\n",
       "      <td>50</td>\n",
       "      <td>15</td>\n",
       "      <td>5</td>\n",
       "      <td>5</td>\n",
       "      <td>708_50_15_5</td>\n",
       "      <td>NaN</td>\n",
       "    </tr>\n",
       "    <tr>\n",
       "      <th>290</th>\n",
       "      <td>15/12/2014</td>\n",
       "      <td>Beans - Retail</td>\n",
       "      <td>KG</td>\n",
       "      <td>pulses and nuts</td>\n",
       "      <td>1.92</td>\n",
       "      <td>USD</td>\n",
       "      <td>Zimbabwe</td>\n",
       "      <td>Harare</td>\n",
       "      <td>3436</td>\n",
       "      <td>Mbare</td>\n",
       "      <td>708</td>\n",
       "      <td>50</td>\n",
       "      <td>15</td>\n",
       "      <td>5</td>\n",
       "      <td>5</td>\n",
       "      <td>708_50_15_5</td>\n",
       "      <td>NaN</td>\n",
       "    </tr>\n",
       "    <tr>\n",
       "      <th>291</th>\n",
       "      <td>15/4/2015</td>\n",
       "      <td>Beans - Retail</td>\n",
       "      <td>KG</td>\n",
       "      <td>pulses and nuts</td>\n",
       "      <td>1.71</td>\n",
       "      <td>USD</td>\n",
       "      <td>Zimbabwe</td>\n",
       "      <td>Harare</td>\n",
       "      <td>3436</td>\n",
       "      <td>Mbare</td>\n",
       "      <td>708</td>\n",
       "      <td>50</td>\n",
       "      <td>15</td>\n",
       "      <td>5</td>\n",
       "      <td>5</td>\n",
       "      <td>708_50_15_5</td>\n",
       "      <td>NaN</td>\n",
       "    </tr>\n",
       "    <tr>\n",
       "      <th>292</th>\n",
       "      <td>15/5/2015</td>\n",
       "      <td>Beans - Retail</td>\n",
       "      <td>KG</td>\n",
       "      <td>pulses and nuts</td>\n",
       "      <td>1.00</td>\n",
       "      <td>USD</td>\n",
       "      <td>Zimbabwe</td>\n",
       "      <td>Harare</td>\n",
       "      <td>3436</td>\n",
       "      <td>Mbare</td>\n",
       "      <td>708</td>\n",
       "      <td>50</td>\n",
       "      <td>15</td>\n",
       "      <td>5</td>\n",
       "      <td>5</td>\n",
       "      <td>708_50_15_5</td>\n",
       "      <td>NaN</td>\n",
       "    </tr>\n",
       "    <tr>\n",
       "      <th>293</th>\n",
       "      <td>15/6/2015</td>\n",
       "      <td>Beans - Retail</td>\n",
       "      <td>KG</td>\n",
       "      <td>pulses and nuts</td>\n",
       "      <td>1.00</td>\n",
       "      <td>USD</td>\n",
       "      <td>Zimbabwe</td>\n",
       "      <td>Harare</td>\n",
       "      <td>3436</td>\n",
       "      <td>Mbare</td>\n",
       "      <td>708</td>\n",
       "      <td>50</td>\n",
       "      <td>15</td>\n",
       "      <td>5</td>\n",
       "      <td>5</td>\n",
       "      <td>708_50_15_5</td>\n",
       "      <td>NaN</td>\n",
       "    </tr>\n",
       "    <tr>\n",
       "      <th>294</th>\n",
       "      <td>15/7/2015</td>\n",
       "      <td>Beans - Retail</td>\n",
       "      <td>KG</td>\n",
       "      <td>pulses and nuts</td>\n",
       "      <td>1.80</td>\n",
       "      <td>USD</td>\n",
       "      <td>Zimbabwe</td>\n",
       "      <td>Harare</td>\n",
       "      <td>3436</td>\n",
       "      <td>Mbare</td>\n",
       "      <td>708</td>\n",
       "      <td>50</td>\n",
       "      <td>15</td>\n",
       "      <td>5</td>\n",
       "      <td>5</td>\n",
       "      <td>708_50_15_5</td>\n",
       "      <td>NaN</td>\n",
       "    </tr>\n",
       "    <tr>\n",
       "      <th>295</th>\n",
       "      <td>15/8/2015</td>\n",
       "      <td>Beans - Retail</td>\n",
       "      <td>KG</td>\n",
       "      <td>pulses and nuts</td>\n",
       "      <td>1.80</td>\n",
       "      <td>USD</td>\n",
       "      <td>Zimbabwe</td>\n",
       "      <td>Harare</td>\n",
       "      <td>3436</td>\n",
       "      <td>Mbare</td>\n",
       "      <td>708</td>\n",
       "      <td>50</td>\n",
       "      <td>15</td>\n",
       "      <td>5</td>\n",
       "      <td>5</td>\n",
       "      <td>708_50_15_5</td>\n",
       "      <td>NaN</td>\n",
       "    </tr>\n",
       "    <tr>\n",
       "      <th>296</th>\n",
       "      <td>15/9/2015</td>\n",
       "      <td>Beans - Retail</td>\n",
       "      <td>KG</td>\n",
       "      <td>pulses and nuts</td>\n",
       "      <td>1.80</td>\n",
       "      <td>USD</td>\n",
       "      <td>Zimbabwe</td>\n",
       "      <td>Harare</td>\n",
       "      <td>3436</td>\n",
       "      <td>Mbare</td>\n",
       "      <td>708</td>\n",
       "      <td>50</td>\n",
       "      <td>15</td>\n",
       "      <td>5</td>\n",
       "      <td>5</td>\n",
       "      <td>708_50_15_5</td>\n",
       "      <td>NaN</td>\n",
       "    </tr>\n",
       "    <tr>\n",
       "      <th>297</th>\n",
       "      <td>15/10/2015</td>\n",
       "      <td>Beans - Retail</td>\n",
       "      <td>KG</td>\n",
       "      <td>pulses and nuts</td>\n",
       "      <td>1.80</td>\n",
       "      <td>USD</td>\n",
       "      <td>Zimbabwe</td>\n",
       "      <td>Harare</td>\n",
       "      <td>3436</td>\n",
       "      <td>Mbare</td>\n",
       "      <td>708</td>\n",
       "      <td>50</td>\n",
       "      <td>15</td>\n",
       "      <td>5</td>\n",
       "      <td>5</td>\n",
       "      <td>708_50_15_5</td>\n",
       "      <td>NaN</td>\n",
       "    </tr>\n",
       "    <tr>\n",
       "      <th>298</th>\n",
       "      <td>15/11/2015</td>\n",
       "      <td>Beans - Retail</td>\n",
       "      <td>KG</td>\n",
       "      <td>pulses and nuts</td>\n",
       "      <td>1.80</td>\n",
       "      <td>USD</td>\n",
       "      <td>Zimbabwe</td>\n",
       "      <td>Harare</td>\n",
       "      <td>3436</td>\n",
       "      <td>Mbare</td>\n",
       "      <td>708</td>\n",
       "      <td>50</td>\n",
       "      <td>15</td>\n",
       "      <td>5</td>\n",
       "      <td>5</td>\n",
       "      <td>708_50_15_5</td>\n",
       "      <td>NaN</td>\n",
       "    </tr>\n",
       "    <tr>\n",
       "      <th>299</th>\n",
       "      <td>15/12/2015</td>\n",
       "      <td>Beans - Retail</td>\n",
       "      <td>KG</td>\n",
       "      <td>pulses and nuts</td>\n",
       "      <td>1.80</td>\n",
       "      <td>USD</td>\n",
       "      <td>Zimbabwe</td>\n",
       "      <td>Harare</td>\n",
       "      <td>3436</td>\n",
       "      <td>Mbare</td>\n",
       "      <td>708</td>\n",
       "      <td>50</td>\n",
       "      <td>15</td>\n",
       "      <td>5</td>\n",
       "      <td>5</td>\n",
       "      <td>708_50_15_5</td>\n",
       "      <td>NaN</td>\n",
       "    </tr>\n",
       "    <tr>\n",
       "      <th>300</th>\n",
       "      <td>15/1/2016</td>\n",
       "      <td>Beans - Retail</td>\n",
       "      <td>KG</td>\n",
       "      <td>pulses and nuts</td>\n",
       "      <td>1.80</td>\n",
       "      <td>USD</td>\n",
       "      <td>Zimbabwe</td>\n",
       "      <td>Harare</td>\n",
       "      <td>3436</td>\n",
       "      <td>Mbare</td>\n",
       "      <td>708</td>\n",
       "      <td>50</td>\n",
       "      <td>15</td>\n",
       "      <td>5</td>\n",
       "      <td>5</td>\n",
       "      <td>708_50_15_5</td>\n",
       "      <td>NaN</td>\n",
       "    </tr>\n",
       "    <tr>\n",
       "      <th>301</th>\n",
       "      <td>15/2/2016</td>\n",
       "      <td>Beans - Retail</td>\n",
       "      <td>KG</td>\n",
       "      <td>pulses and nuts</td>\n",
       "      <td>1.80</td>\n",
       "      <td>USD</td>\n",
       "      <td>Zimbabwe</td>\n",
       "      <td>Harare</td>\n",
       "      <td>3436</td>\n",
       "      <td>Mbare</td>\n",
       "      <td>708</td>\n",
       "      <td>50</td>\n",
       "      <td>15</td>\n",
       "      <td>5</td>\n",
       "      <td>5</td>\n",
       "      <td>708_50_15_5</td>\n",
       "      <td>NaN</td>\n",
       "    </tr>\n",
       "    <tr>\n",
       "      <th>302</th>\n",
       "      <td>15/3/2016</td>\n",
       "      <td>Beans - Retail</td>\n",
       "      <td>KG</td>\n",
       "      <td>pulses and nuts</td>\n",
       "      <td>1.80</td>\n",
       "      <td>USD</td>\n",
       "      <td>Zimbabwe</td>\n",
       "      <td>Harare</td>\n",
       "      <td>3436</td>\n",
       "      <td>Mbare</td>\n",
       "      <td>708</td>\n",
       "      <td>50</td>\n",
       "      <td>15</td>\n",
       "      <td>5</td>\n",
       "      <td>5</td>\n",
       "      <td>708_50_15_5</td>\n",
       "      <td>NaN</td>\n",
       "    </tr>\n",
       "    <tr>\n",
       "      <th>303</th>\n",
       "      <td>15/4/2016</td>\n",
       "      <td>Beans - Retail</td>\n",
       "      <td>KG</td>\n",
       "      <td>pulses and nuts</td>\n",
       "      <td>1.80</td>\n",
       "      <td>USD</td>\n",
       "      <td>Zimbabwe</td>\n",
       "      <td>Harare</td>\n",
       "      <td>3436</td>\n",
       "      <td>Mbare</td>\n",
       "      <td>708</td>\n",
       "      <td>50</td>\n",
       "      <td>15</td>\n",
       "      <td>5</td>\n",
       "      <td>5</td>\n",
       "      <td>708_50_15_5</td>\n",
       "      <td>NaN</td>\n",
       "    </tr>\n",
       "    <tr>\n",
       "      <th>304</th>\n",
       "      <td>15/5/2016</td>\n",
       "      <td>Beans - Retail</td>\n",
       "      <td>KG</td>\n",
       "      <td>pulses and nuts</td>\n",
       "      <td>1.80</td>\n",
       "      <td>USD</td>\n",
       "      <td>Zimbabwe</td>\n",
       "      <td>Harare</td>\n",
       "      <td>3436</td>\n",
       "      <td>Mbare</td>\n",
       "      <td>708</td>\n",
       "      <td>50</td>\n",
       "      <td>15</td>\n",
       "      <td>5</td>\n",
       "      <td>5</td>\n",
       "      <td>708_50_15_5</td>\n",
       "      <td>NaN</td>\n",
       "    </tr>\n",
       "    <tr>\n",
       "      <th>305</th>\n",
       "      <td>15/6/2016</td>\n",
       "      <td>Beans - Retail</td>\n",
       "      <td>KG</td>\n",
       "      <td>pulses and nuts</td>\n",
       "      <td>1.80</td>\n",
       "      <td>USD</td>\n",
       "      <td>Zimbabwe</td>\n",
       "      <td>Harare</td>\n",
       "      <td>3436</td>\n",
       "      <td>Mbare</td>\n",
       "      <td>708</td>\n",
       "      <td>50</td>\n",
       "      <td>15</td>\n",
       "      <td>5</td>\n",
       "      <td>5</td>\n",
       "      <td>708_50_15_5</td>\n",
       "      <td>NaN</td>\n",
       "    </tr>\n",
       "    <tr>\n",
       "      <th>306</th>\n",
       "      <td>15/7/2016</td>\n",
       "      <td>Beans - Retail</td>\n",
       "      <td>KG</td>\n",
       "      <td>pulses and nuts</td>\n",
       "      <td>1.80</td>\n",
       "      <td>USD</td>\n",
       "      <td>Zimbabwe</td>\n",
       "      <td>Harare</td>\n",
       "      <td>3436</td>\n",
       "      <td>Mbare</td>\n",
       "      <td>708</td>\n",
       "      <td>50</td>\n",
       "      <td>15</td>\n",
       "      <td>5</td>\n",
       "      <td>5</td>\n",
       "      <td>708_50_15_5</td>\n",
       "      <td>NaN</td>\n",
       "    </tr>\n",
       "    <tr>\n",
       "      <th>307</th>\n",
       "      <td>15/8/2016</td>\n",
       "      <td>Beans - Retail</td>\n",
       "      <td>KG</td>\n",
       "      <td>pulses and nuts</td>\n",
       "      <td>1.80</td>\n",
       "      <td>USD</td>\n",
       "      <td>Zimbabwe</td>\n",
       "      <td>Harare</td>\n",
       "      <td>3436</td>\n",
       "      <td>Mbare</td>\n",
       "      <td>708</td>\n",
       "      <td>50</td>\n",
       "      <td>15</td>\n",
       "      <td>5</td>\n",
       "      <td>5</td>\n",
       "      <td>708_50_15_5</td>\n",
       "      <td>NaN</td>\n",
       "    </tr>\n",
       "    <tr>\n",
       "      <th>308</th>\n",
       "      <td>15/9/2016</td>\n",
       "      <td>Beans - Retail</td>\n",
       "      <td>KG</td>\n",
       "      <td>pulses and nuts</td>\n",
       "      <td>0.90</td>\n",
       "      <td>USD</td>\n",
       "      <td>Zimbabwe</td>\n",
       "      <td>Harare</td>\n",
       "      <td>3436</td>\n",
       "      <td>Mbare</td>\n",
       "      <td>708</td>\n",
       "      <td>50</td>\n",
       "      <td>15</td>\n",
       "      <td>5</td>\n",
       "      <td>5</td>\n",
       "      <td>708_50_15_5</td>\n",
       "      <td>NaN</td>\n",
       "    </tr>\n",
       "    <tr>\n",
       "      <th>309</th>\n",
       "      <td>15/10/2016</td>\n",
       "      <td>Beans - Retail</td>\n",
       "      <td>KG</td>\n",
       "      <td>pulses and nuts</td>\n",
       "      <td>1.10</td>\n",
       "      <td>USD</td>\n",
       "      <td>Zimbabwe</td>\n",
       "      <td>Harare</td>\n",
       "      <td>3436</td>\n",
       "      <td>Mbare</td>\n",
       "      <td>708</td>\n",
       "      <td>50</td>\n",
       "      <td>15</td>\n",
       "      <td>5</td>\n",
       "      <td>5</td>\n",
       "      <td>708_50_15_5</td>\n",
       "      <td>NaN</td>\n",
       "    </tr>\n",
       "    <tr>\n",
       "      <th>310</th>\n",
       "      <td>15/11/2016</td>\n",
       "      <td>Beans - Retail</td>\n",
       "      <td>KG</td>\n",
       "      <td>pulses and nuts</td>\n",
       "      <td>1.10</td>\n",
       "      <td>USD</td>\n",
       "      <td>Zimbabwe</td>\n",
       "      <td>Harare</td>\n",
       "      <td>3436</td>\n",
       "      <td>Mbare</td>\n",
       "      <td>708</td>\n",
       "      <td>50</td>\n",
       "      <td>15</td>\n",
       "      <td>5</td>\n",
       "      <td>5</td>\n",
       "      <td>708_50_15_5</td>\n",
       "      <td>NaN</td>\n",
       "    </tr>\n",
       "    <tr>\n",
       "      <th>311</th>\n",
       "      <td>15/12/2016</td>\n",
       "      <td>Beans - Retail</td>\n",
       "      <td>KG</td>\n",
       "      <td>pulses and nuts</td>\n",
       "      <td>1.10</td>\n",
       "      <td>USD</td>\n",
       "      <td>Zimbabwe</td>\n",
       "      <td>Harare</td>\n",
       "      <td>3436</td>\n",
       "      <td>Mbare</td>\n",
       "      <td>708</td>\n",
       "      <td>50</td>\n",
       "      <td>15</td>\n",
       "      <td>5</td>\n",
       "      <td>5</td>\n",
       "      <td>708_50_15_5</td>\n",
       "      <td>NaN</td>\n",
       "    </tr>\n",
       "    <tr>\n",
       "      <th>312</th>\n",
       "      <td>15/1/2017</td>\n",
       "      <td>Beans - Retail</td>\n",
       "      <td>KG</td>\n",
       "      <td>pulses and nuts</td>\n",
       "      <td>1.35</td>\n",
       "      <td>USD</td>\n",
       "      <td>Zimbabwe</td>\n",
       "      <td>Harare</td>\n",
       "      <td>3436</td>\n",
       "      <td>Mbare</td>\n",
       "      <td>708</td>\n",
       "      <td>50</td>\n",
       "      <td>15</td>\n",
       "      <td>5</td>\n",
       "      <td>5</td>\n",
       "      <td>708_50_15_5</td>\n",
       "      <td>NaN</td>\n",
       "    </tr>\n",
       "    <tr>\n",
       "      <th>313</th>\n",
       "      <td>15/2/2017</td>\n",
       "      <td>Beans - Retail</td>\n",
       "      <td>KG</td>\n",
       "      <td>pulses and nuts</td>\n",
       "      <td>1.55</td>\n",
       "      <td>USD</td>\n",
       "      <td>Zimbabwe</td>\n",
       "      <td>Harare</td>\n",
       "      <td>3436</td>\n",
       "      <td>Mbare</td>\n",
       "      <td>708</td>\n",
       "      <td>50</td>\n",
       "      <td>15</td>\n",
       "      <td>5</td>\n",
       "      <td>5</td>\n",
       "      <td>708_50_15_5</td>\n",
       "      <td>NaN</td>\n",
       "    </tr>\n",
       "    <tr>\n",
       "      <th>314</th>\n",
       "      <td>15/3/2017</td>\n",
       "      <td>Beans - Retail</td>\n",
       "      <td>KG</td>\n",
       "      <td>pulses and nuts</td>\n",
       "      <td>1.55</td>\n",
       "      <td>USD</td>\n",
       "      <td>Zimbabwe</td>\n",
       "      <td>Harare</td>\n",
       "      <td>3436</td>\n",
       "      <td>Mbare</td>\n",
       "      <td>708</td>\n",
       "      <td>50</td>\n",
       "      <td>15</td>\n",
       "      <td>5</td>\n",
       "      <td>5</td>\n",
       "      <td>708_50_15_5</td>\n",
       "      <td>NaN</td>\n",
       "    </tr>\n",
       "    <tr>\n",
       "      <th>315</th>\n",
       "      <td>15/4/2017</td>\n",
       "      <td>Beans - Retail</td>\n",
       "      <td>KG</td>\n",
       "      <td>pulses and nuts</td>\n",
       "      <td>1.55</td>\n",
       "      <td>USD</td>\n",
       "      <td>Zimbabwe</td>\n",
       "      <td>Harare</td>\n",
       "      <td>3436</td>\n",
       "      <td>Mbare</td>\n",
       "      <td>708</td>\n",
       "      <td>50</td>\n",
       "      <td>15</td>\n",
       "      <td>5</td>\n",
       "      <td>5</td>\n",
       "      <td>708_50_15_5</td>\n",
       "      <td>NaN</td>\n",
       "    </tr>\n",
       "    <tr>\n",
       "      <th>316</th>\n",
       "      <td>15/5/2017</td>\n",
       "      <td>Beans - Retail</td>\n",
       "      <td>KG</td>\n",
       "      <td>pulses and nuts</td>\n",
       "      <td>1.55</td>\n",
       "      <td>USD</td>\n",
       "      <td>Zimbabwe</td>\n",
       "      <td>Harare</td>\n",
       "      <td>3436</td>\n",
       "      <td>Mbare</td>\n",
       "      <td>708</td>\n",
       "      <td>50</td>\n",
       "      <td>15</td>\n",
       "      <td>5</td>\n",
       "      <td>5</td>\n",
       "      <td>708_50_15_5</td>\n",
       "      <td>NaN</td>\n",
       "    </tr>\n",
       "    <tr>\n",
       "      <th>317</th>\n",
       "      <td>15/6/2017</td>\n",
       "      <td>Beans - Retail</td>\n",
       "      <td>KG</td>\n",
       "      <td>pulses and nuts</td>\n",
       "      <td>1.50</td>\n",
       "      <td>USD</td>\n",
       "      <td>Zimbabwe</td>\n",
       "      <td>Harare</td>\n",
       "      <td>3436</td>\n",
       "      <td>Mbare</td>\n",
       "      <td>708</td>\n",
       "      <td>50</td>\n",
       "      <td>15</td>\n",
       "      <td>5</td>\n",
       "      <td>5</td>\n",
       "      <td>708_50_15_5</td>\n",
       "      <td>NaN</td>\n",
       "    </tr>\n",
       "    <tr>\n",
       "      <th>318</th>\n",
       "      <td>15/7/2017</td>\n",
       "      <td>Beans - Retail</td>\n",
       "      <td>KG</td>\n",
       "      <td>pulses and nuts</td>\n",
       "      <td>1.33</td>\n",
       "      <td>USD</td>\n",
       "      <td>Zimbabwe</td>\n",
       "      <td>Harare</td>\n",
       "      <td>3436</td>\n",
       "      <td>Mbare</td>\n",
       "      <td>708</td>\n",
       "      <td>50</td>\n",
       "      <td>15</td>\n",
       "      <td>5</td>\n",
       "      <td>5</td>\n",
       "      <td>708_50_15_5</td>\n",
       "      <td>NaN</td>\n",
       "    </tr>\n",
       "  </tbody>\n",
       "</table>\n",
       "</div>"
      ],
      "text/plain": [
       "           date          cmname unit         category  price currency  \\\n",
       "286   15/8/2014  Beans - Retail   KG  pulses and nuts   2.00      USD   \n",
       "287   15/9/2014  Beans - Retail   KG  pulses and nuts   1.98      USD   \n",
       "288  15/10/2014  Beans - Retail   KG  pulses and nuts   1.98      USD   \n",
       "289  15/11/2014  Beans - Retail   KG  pulses and nuts   1.98      USD   \n",
       "290  15/12/2014  Beans - Retail   KG  pulses and nuts   1.92      USD   \n",
       "291   15/4/2015  Beans - Retail   KG  pulses and nuts   1.71      USD   \n",
       "292   15/5/2015  Beans - Retail   KG  pulses and nuts   1.00      USD   \n",
       "293   15/6/2015  Beans - Retail   KG  pulses and nuts   1.00      USD   \n",
       "294   15/7/2015  Beans - Retail   KG  pulses and nuts   1.80      USD   \n",
       "295   15/8/2015  Beans - Retail   KG  pulses and nuts   1.80      USD   \n",
       "296   15/9/2015  Beans - Retail   KG  pulses and nuts   1.80      USD   \n",
       "297  15/10/2015  Beans - Retail   KG  pulses and nuts   1.80      USD   \n",
       "298  15/11/2015  Beans - Retail   KG  pulses and nuts   1.80      USD   \n",
       "299  15/12/2015  Beans - Retail   KG  pulses and nuts   1.80      USD   \n",
       "300   15/1/2016  Beans - Retail   KG  pulses and nuts   1.80      USD   \n",
       "301   15/2/2016  Beans - Retail   KG  pulses and nuts   1.80      USD   \n",
       "302   15/3/2016  Beans - Retail   KG  pulses and nuts   1.80      USD   \n",
       "303   15/4/2016  Beans - Retail   KG  pulses and nuts   1.80      USD   \n",
       "304   15/5/2016  Beans - Retail   KG  pulses and nuts   1.80      USD   \n",
       "305   15/6/2016  Beans - Retail   KG  pulses and nuts   1.80      USD   \n",
       "306   15/7/2016  Beans - Retail   KG  pulses and nuts   1.80      USD   \n",
       "307   15/8/2016  Beans - Retail   KG  pulses and nuts   1.80      USD   \n",
       "308   15/9/2016  Beans - Retail   KG  pulses and nuts   0.90      USD   \n",
       "309  15/10/2016  Beans - Retail   KG  pulses and nuts   1.10      USD   \n",
       "310  15/11/2016  Beans - Retail   KG  pulses and nuts   1.10      USD   \n",
       "311  15/12/2016  Beans - Retail   KG  pulses and nuts   1.10      USD   \n",
       "312   15/1/2017  Beans - Retail   KG  pulses and nuts   1.35      USD   \n",
       "313   15/2/2017  Beans - Retail   KG  pulses and nuts   1.55      USD   \n",
       "314   15/3/2017  Beans - Retail   KG  pulses and nuts   1.55      USD   \n",
       "315   15/4/2017  Beans - Retail   KG  pulses and nuts   1.55      USD   \n",
       "316   15/5/2017  Beans - Retail   KG  pulses and nuts   1.55      USD   \n",
       "317   15/6/2017  Beans - Retail   KG  pulses and nuts   1.50      USD   \n",
       "318   15/7/2017  Beans - Retail   KG  pulses and nuts   1.33      USD   \n",
       "\n",
       "      country admname  adm1id mktname  mktid  cmid  ptid  umid  catid  \\\n",
       "286  Zimbabwe  Harare    3436   Mbare    708    50    15     5      5   \n",
       "287  Zimbabwe  Harare    3436   Mbare    708    50    15     5      5   \n",
       "288  Zimbabwe  Harare    3436   Mbare    708    50    15     5      5   \n",
       "289  Zimbabwe  Harare    3436   Mbare    708    50    15     5      5   \n",
       "290  Zimbabwe  Harare    3436   Mbare    708    50    15     5      5   \n",
       "291  Zimbabwe  Harare    3436   Mbare    708    50    15     5      5   \n",
       "292  Zimbabwe  Harare    3436   Mbare    708    50    15     5      5   \n",
       "293  Zimbabwe  Harare    3436   Mbare    708    50    15     5      5   \n",
       "294  Zimbabwe  Harare    3436   Mbare    708    50    15     5      5   \n",
       "295  Zimbabwe  Harare    3436   Mbare    708    50    15     5      5   \n",
       "296  Zimbabwe  Harare    3436   Mbare    708    50    15     5      5   \n",
       "297  Zimbabwe  Harare    3436   Mbare    708    50    15     5      5   \n",
       "298  Zimbabwe  Harare    3436   Mbare    708    50    15     5      5   \n",
       "299  Zimbabwe  Harare    3436   Mbare    708    50    15     5      5   \n",
       "300  Zimbabwe  Harare    3436   Mbare    708    50    15     5      5   \n",
       "301  Zimbabwe  Harare    3436   Mbare    708    50    15     5      5   \n",
       "302  Zimbabwe  Harare    3436   Mbare    708    50    15     5      5   \n",
       "303  Zimbabwe  Harare    3436   Mbare    708    50    15     5      5   \n",
       "304  Zimbabwe  Harare    3436   Mbare    708    50    15     5      5   \n",
       "305  Zimbabwe  Harare    3436   Mbare    708    50    15     5      5   \n",
       "306  Zimbabwe  Harare    3436   Mbare    708    50    15     5      5   \n",
       "307  Zimbabwe  Harare    3436   Mbare    708    50    15     5      5   \n",
       "308  Zimbabwe  Harare    3436   Mbare    708    50    15     5      5   \n",
       "309  Zimbabwe  Harare    3436   Mbare    708    50    15     5      5   \n",
       "310  Zimbabwe  Harare    3436   Mbare    708    50    15     5      5   \n",
       "311  Zimbabwe  Harare    3436   Mbare    708    50    15     5      5   \n",
       "312  Zimbabwe  Harare    3436   Mbare    708    50    15     5      5   \n",
       "313  Zimbabwe  Harare    3436   Mbare    708    50    15     5      5   \n",
       "314  Zimbabwe  Harare    3436   Mbare    708    50    15     5      5   \n",
       "315  Zimbabwe  Harare    3436   Mbare    708    50    15     5      5   \n",
       "316  Zimbabwe  Harare    3436   Mbare    708    50    15     5      5   \n",
       "317  Zimbabwe  Harare    3436   Mbare    708    50    15     5      5   \n",
       "318  Zimbabwe  Harare    3436   Mbare    708    50    15     5      5   \n",
       "\n",
       "              sn  default  \n",
       "286  708_50_15_5      NaN  \n",
       "287  708_50_15_5      NaN  \n",
       "288  708_50_15_5      NaN  \n",
       "289  708_50_15_5      NaN  \n",
       "290  708_50_15_5      NaN  \n",
       "291  708_50_15_5      NaN  \n",
       "292  708_50_15_5      NaN  \n",
       "293  708_50_15_5      NaN  \n",
       "294  708_50_15_5      NaN  \n",
       "295  708_50_15_5      NaN  \n",
       "296  708_50_15_5      NaN  \n",
       "297  708_50_15_5      NaN  \n",
       "298  708_50_15_5      NaN  \n",
       "299  708_50_15_5      NaN  \n",
       "300  708_50_15_5      NaN  \n",
       "301  708_50_15_5      NaN  \n",
       "302  708_50_15_5      NaN  \n",
       "303  708_50_15_5      NaN  \n",
       "304  708_50_15_5      NaN  \n",
       "305  708_50_15_5      NaN  \n",
       "306  708_50_15_5      NaN  \n",
       "307  708_50_15_5      NaN  \n",
       "308  708_50_15_5      NaN  \n",
       "309  708_50_15_5      NaN  \n",
       "310  708_50_15_5      NaN  \n",
       "311  708_50_15_5      NaN  \n",
       "312  708_50_15_5      NaN  \n",
       "313  708_50_15_5      NaN  \n",
       "314  708_50_15_5      NaN  \n",
       "315  708_50_15_5      NaN  \n",
       "316  708_50_15_5      NaN  \n",
       "317  708_50_15_5      NaN  \n",
       "318  708_50_15_5      NaN  "
      ]
     },
     "execution_count": 26,
     "metadata": {},
     "output_type": "execute_result"
    }
   ],
   "source": [
    "df[(df.cmname=='Beans - Retail')&(df.admname=='Harare')]"
   ]
  }
: 27,
   "metadata": {}
: [
    {
     "data": {
      "text/html": [
       "<div>\n",
       "<style scoped>\n",
       "    .dataframe tbody tr th:only-of-type {\n",
       "        vertical-align: middle;\n",
       "    }\n",
       "\n",
       "    .dataframe tbody tr th {\n",
       "        vertical-align: top;\n",
       "    }\n",
       "\n",
       "    .dataframe thead th {\n",
       "        text-align: right;\n",
       "    }\n",
       "</style>\n",
       "<table border=\"1\" class=\"dataframe\">\n",
       "  <thead>\n",
       "    <tr style=\"text-align: right;\">\n",
       "      <th></th>\n",
       "      <th>date</th>\n",
       "      <th>cmname</th>\n",
       "      <th>unit</th>\n",
       "      <th>category</th>\n",
       "      <th>price</th>\n",
       "      <th>currency</th>\n",
       "      <th>country</th>\n",
       "      <th>admname</th>\n",
       "      <th>adm1id</th>\n",
       "      <th>mktname</th>\n",
       "      <th>mktid</th>\n",
       "      <th>cmid</th>\n",
       "      <th>ptid</th>\n",
       "      <th>umid</th>\n",
       "      <th>catid</th>\n",
       "      <th>sn</th>\n",
       "      <th>default</th>\n",
       "    </tr>\n",
       "  </thead>\n",
       "  <tbody>\n",
       "    <tr>\n",
       "      <th>0</th>\n",
       "      <td>15/9/2014</td>\n",
       "      <td>Beans - Retail</td>\n",
       "      <td>KG</td>\n",
       "      <td>pulses and nuts</td>\n",
       "      <td>1.40</td>\n",
       "      <td>USD</td>\n",
       "      <td>Zimbabwe</td>\n",
       "      <td>Bulawayo</td>\n",
       "      <td>3435</td>\n",
       "      <td>Renkini Bus Terminus</td>\n",
       "      <td>715</td>\n",
       "      <td>50</td>\n",
       "      <td>15</td>\n",
       "      <td>5</td>\n",
       "      <td>5</td>\n",
       "      <td>715_50_15_5</td>\n",
       "      <td>NaN</td>\n",
       "    </tr>\n",
       "    <tr>\n",
       "      <th>1</th>\n",
       "      <td>15/10/2014</td>\n",
       "      <td>Beans - Retail</td>\n",
       "      <td>KG</td>\n",
       "      <td>pulses and nuts</td>\n",
       "      <td>1.40</td>\n",
       "      <td>USD</td>\n",
       "      <td>Zimbabwe</td>\n",
       "      <td>Bulawayo</td>\n",
       "      <td>3435</td>\n",
       "      <td>Renkini Bus Terminus</td>\n",
       "      <td>715</td>\n",
       "      <td>50</td>\n",
       "      <td>15</td>\n",
       "      <td>5</td>\n",
       "      <td>5</td>\n",
       "      <td>715_50_15_5</td>\n",
       "      <td>NaN</td>\n",
       "    </tr>\n",
       "    <tr>\n",
       "      <th>2</th>\n",
       "      <td>15/11/2014</td>\n",
       "      <td>Beans - Retail</td>\n",
       "      <td>KG</td>\n",
       "      <td>pulses and nuts</td>\n",
       "      <td>1.40</td>\n",
       "      <td>USD</td>\n",
       "      <td>Zimbabwe</td>\n",
       "      <td>Bulawayo</td>\n",
       "      <td>3435</td>\n",
       "      <td>Renkini Bus Terminus</td>\n",
       "      <td>715</td>\n",
       "      <td>50</td>\n",
       "      <td>15</td>\n",
       "      <td>5</td>\n",
       "      <td>5</td>\n",
       "      <td>715_50_15_5</td>\n",
       "      <td>NaN</td>\n",
       "    </tr>\n",
       "    <tr>\n",
       "      <th>3</th>\n",
       "      <td>15/12/2014</td>\n",
       "      <td>Beans - Retail</td>\n",
       "      <td>KG</td>\n",
       "      <td>pulses and nuts</td>\n",
       "      <td>1.40</td>\n",
       "      <td>USD</td>\n",
       "      <td>Zimbabwe</td>\n",
       "      <td>Bulawayo</td>\n",
       "      <td>3435</td>\n",
       "      <td>Renkini Bus Terminus</td>\n",
       "      <td>715</td>\n",
       "      <td>50</td>\n",
       "      <td>15</td>\n",
       "      <td>5</td>\n",
       "      <td>5</td>\n",
       "      <td>715_50_15_5</td>\n",
       "      <td>NaN</td>\n",
       "    </tr>\n",
       "    <tr>\n",
       "      <th>4</th>\n",
       "      <td>15/2/2015</td>\n",
       "      <td>Beans - Retail</td>\n",
       "      <td>KG</td>\n",
       "      <td>pulses and nuts</td>\n",
       "      <td>1.40</td>\n",
       "      <td>USD</td>\n",
       "      <td>Zimbabwe</td>\n",
       "      <td>Bulawayo</td>\n",
       "      <td>3435</td>\n",
       "      <td>Renkini Bus Terminus</td>\n",
       "      <td>715</td>\n",
       "      <td>50</td>\n",
       "      <td>15</td>\n",
       "      <td>5</td>\n",
       "      <td>5</td>\n",
       "      <td>715_50_15_5</td>\n",
       "      <td>NaN</td>\n",
       "    </tr>\n",
       "    <tr>\n",
       "      <th>...</th>\n",
       "      <td>...</td>\n",
       "      <td>...</td>\n",
       "      <td>...</td>\n",
       "      <td>...</td>\n",
       "      <td>...</td>\n",
       "      <td>...</td>\n",
       "      <td>...</td>\n",
       "      <td>...</td>\n",
       "      <td>...</td>\n",
       "      <td>...</td>\n",
       "      <td>...</td>\n",
       "      <td>...</td>\n",
       "      <td>...</td>\n",
       "      <td>...</td>\n",
       "      <td>...</td>\n",
       "      <td>...</td>\n",
       "      <td>...</td>\n",
       "    </tr>\n",
       "    <tr>\n",
       "      <th>602</th>\n",
       "      <td>15/3/2017</td>\n",
       "      <td>Maize meal (white, roller) - Retail</td>\n",
       "      <td>KG</td>\n",
       "      <td>cereals and tubers</td>\n",
       "      <td>0.66</td>\n",
       "      <td>USD</td>\n",
       "      <td>Zimbabwe</td>\n",
       "      <td>Harare</td>\n",
       "      <td>3436</td>\n",
       "      <td>Mbare</td>\n",
       "      <td>708</td>\n",
       "      <td>264</td>\n",
       "      <td>15</td>\n",
       "      <td>5</td>\n",
       "      <td>1</td>\n",
       "      <td>708_264_15_5</td>\n",
       "      <td>NaN</td>\n",
       "    </tr>\n",
       "    <tr>\n",
       "      <th>603</th>\n",
       "      <td>15/4/2017</td>\n",
       "      <td>Maize meal (white, roller) - Retail</td>\n",
       "      <td>KG</td>\n",
       "      <td>cereals and tubers</td>\n",
       "      <td>0.66</td>\n",
       "      <td>USD</td>\n",
       "      <td>Zimbabwe</td>\n",
       "      <td>Harare</td>\n",
       "      <td>3436</td>\n",
       "      <td>Mbare</td>\n",
       "      <td>708</td>\n",
       "      <td>264</td>\n",
       "      <td>15</td>\n",
       "      <td>5</td>\n",
       "      <td>1</td>\n",
       "      <td>708_264_15_5</td>\n",
       "      <td>NaN</td>\n",
       "    </tr>\n",
       "    <tr>\n",
       "      <th>604</th>\n",
       "      <td>15/5/2017</td>\n",
       "      <td>Maize meal (white, roller) - Retail</td>\n",
       "      <td>KG</td>\n",
       "      <td>cereals and tubers</td>\n",
       "      <td>0.60</td>\n",
       "      <td>USD</td>\n",
       "      <td>Zimbabwe</td>\n",
       "      <td>Harare</td>\n",
       "      <td>3436</td>\n",
       "      <td>Mbare</td>\n",
       "      <td>708</td>\n",
       "      <td>264</td>\n",
       "      <td>15</td>\n",
       "      <td>5</td>\n",
       "      <td>1</td>\n",
       "      <td>708_264_15_5</td>\n",
       "      <td>NaN</td>\n",
       "    </tr>\n",
       "    <tr>\n",
       "      <th>605</th>\n",
       "      <td>15/6/2017</td>\n",
       "      <td>Maize meal (white, roller) - Retail</td>\n",
       "      <td>KG</td>\n",
       "      <td>cereals and tubers</td>\n",
       "      <td>0.65</td>\n",
       "      <td>USD</td>\n",
       "      <td>Zimbabwe</td>\n",
       "      <td>Harare</td>\n",
       "      <td>3436</td>\n",
       "      <td>Mbare</td>\n",
       "      <td>708</td>\n",
       "      <td>264</td>\n",
       "      <td>15</td>\n",
       "      <td>5</td>\n",
       "      <td>1</td>\n",
       "      <td>708_264_15_5</td>\n",
       "      <td>NaN</td>\n",
       "    </tr>\n",
       "    <tr>\n",
       "      <th>606</th>\n",
       "      <td>15/7/2017</td>\n",
       "      <td>Maize meal (white, roller) - Retail</td>\n",
       "      <td>KG</td>\n",
       "      <td>cereals and tubers</td>\n",
       "      <td>0.58</td>\n",
       "      <td>USD</td>\n",
       "      <td>Zimbabwe</td>\n",
       "      <td>Harare</td>\n",
       "      <td>3436</td>\n",
       "      <td>Mbare</td>\n",
       "      <td>708</td>\n",
       "      <td>264</td>\n",
       "      <td>15</td>\n",
       "      <td>5</td>\n",
       "      <td>1</td>\n",
       "      <td>708_264_15_5</td>\n",
       "      <td>NaN</td>\n",
       "    </tr>\n",
       "  </tbody>\n",
       "</table>\n",
       "<p>607 rows × 17 columns</p>\n",
       "</div>"
      ],
      "text/plain": [
       "           date                               cmname unit            category  \\\n",
       "0     15/9/2014                       Beans - Retail   KG     pulses and nuts   \n",
       "1    15/10/2014                       Beans - Retail   KG     pulses and nuts   \n",
       "2    15/11/2014                       Beans - Retail   KG     pulses and nuts   \n",
       "3    15/12/2014                       Beans - Retail   KG     pulses and nuts   \n",
       "4     15/2/2015                       Beans - Retail   KG     pulses and nuts   \n",
       "..          ...                                  ...  ...                 ...   \n",
       "602   15/3/2017  Maize meal (white, roller) - Retail   KG  cereals and tubers   \n",
       "603   15/4/2017  Maize meal (white, roller) - Retail   KG  cereals and tubers   \n",
       "604   15/5/2017  Maize meal (white, roller) - Retail   KG  cereals and tubers   \n",
       "605   15/6/2017  Maize meal (white, roller) - Retail   KG  cereals and tubers   \n",
       "606   15/7/2017  Maize meal (white, roller) - Retail   KG  cereals and tubers   \n",
       "\n",
       "     price currency   country   admname  adm1id               mktname  mktid  \\\n",
       "0     1.40      USD  Zimbabwe  Bulawayo    3435  Renkini Bus Terminus    715   \n",
       "1     1.40      USD  Zimbabwe  Bulawayo    3435  Renkini Bus Terminus    715   \n",
       "2     1.40      USD  Zimbabwe  Bulawayo    3435  Renkini Bus Terminus    715   \n",
       "3     1.40      USD  Zimbabwe  Bulawayo    3435  Renkini Bus Terminus    715   \n",
       "4     1.40      USD  Zimbabwe  Bulawayo    3435  Renkini Bus Terminus    715   \n",
       "..     ...      ...       ...       ...     ...                   ...    ...   \n",
       "602   0.66      USD  Zimbabwe    Harare    3436                 Mbare    708   \n",
       "603   0.66      USD  Zimbabwe    Harare    3436                 Mbare    708   \n",
       "604   0.60      USD  Zimbabwe    Harare    3436                 Mbare    708   \n",
       "605   0.65      USD  Zimbabwe    Harare    3436                 Mbare    708   \n",
       "606   0.58      USD  Zimbabwe    Harare    3436                 Mbare    708   \n",
       "\n",
       "     cmid  ptid  umid  catid            sn  default  \n",
       "0      50    15     5      5   715_50_15_5      NaN  \n",
       "1      50    15     5      5   715_50_15_5      NaN  \n",
       "2      50    15     5      5   715_50_15_5      NaN  \n",
       "3      50    15     5      5   715_50_15_5      NaN  \n",
       "4      50    15     5      5   715_50_15_5      NaN  \n",
       "..    ...   ...   ...    ...           ...      ...  \n",
       "602   264    15     5      1  708_264_15_5      NaN  \n",
       "603   264    15     5      1  708_264_15_5      NaN  \n",
       "604   264    15     5      1  708_264_15_5      NaN  \n",
       "605   264    15     5      1  708_264_15_5      NaN  \n",
       "606   264    15     5      1  708_264_15_5      NaN  \n",
       "\n",
       "[607 rows x 17 columns]"
      ]
     },
     "execution_count": 27,
     "metadata": {},
     "output_type": "execute_result"
    }
],
   "source": [
    "df[df.admname.isin(['Harare','Bulawayo'])]"
   ]
  },
  {
   "cell_type": "markdown",
   "metadata": {},
   "source": [
    "## Calculated Columns"
   ]
  }
: 28,
   "metadata": {}
: [],
   "source": [
    "def discountedprice(x):\n",
    "    return x*0.80"
   ]
  },
  {
   "cell_type": "code",
   "execution_count": 29,
   "metadata": {},
   "outputs": [],
   "source": [
    "df['Discounted']=df['price'].apply(discountedprice)"
   ]
  }
: 30,
   "metadata": {}
: [
    {
     "data": {
      "text/html": [
       "<div>\n",
       "<style scoped>\n",
       "    .dataframe tbody tr th:only-of-type {\n",
       "        vertical-align: middle;\n",
       "    }\n",
       "\n",
       "    .dataframe tbody tr th {\n",
       "        vertical-align: top;\n",
       "    }\n",
       "\n",
       "    .dataframe thead th {\n",
       "        text-align: right;\n",
       "    }\n",
       "</style>\n",
       "<table border=\"1\" class=\"dataframe\">\n",
       "  <thead>\n",
       "    <tr style=\"text-align: right;\">\n",
       "      <th></th>\n",
       "      <th>date</th>\n",
       "      <th>cmname</th>\n",
       "      <th>unit</th>\n",
       "      <th>category</th>\n",
       "      <th>price</th>\n",
       "      <th>currency</th>\n",
       "      <th>country</th>\n",
       "      <th>admname</th>\n",
       "      <th>adm1id</th>\n",
       "      <th>mktname</th>\n",
       "      <th>mktid</th>\n",
       "      <th>cmid</th>\n",
       "      <th>ptid</th>\n",
       "      <th>umid</th>\n",
       "      <th>catid</th>\n",
       "      <th>sn</th>\n",
       "      <th>default</th>\n",
       "      <th>Discounted</th>\n",
       "    </tr>\n",
       "  </thead>\n",
       "  <tbody>\n",
       "    <tr>\n",
       "      <th>0</th>\n",
       "      <td>15/9/2014</td>\n",
       "      <td>Beans - Retail</td>\n",
       "      <td>KG</td>\n",
       "      <td>pulses and nuts</td>\n",
       "      <td>1.4</td>\n",
       "      <td>USD</td>\n",
       "      <td>Zimbabwe</td>\n",
       "      <td>Bulawayo</td>\n",
       "      <td>3435</td>\n",
       "      <td>Renkini Bus Terminus</td>\n",
       "      <td>715</td>\n",
       "      <td>50</td>\n",
       "      <td>15</td>\n",
       "      <td>5</td>\n",
       "      <td>5</td>\n",
       "      <td>715_50_15_5</td>\n",
       "      <td>NaN</td>\n",
       "      <td>1.12</td>\n",
       "    </tr>\n",
       "    <tr>\n",
       "      <th>1</th>\n",
       "      <td>15/10/2014</td>\n",
       "      <td>Beans - Retail</td>\n",
       "      <td>KG</td>\n",
       "      <td>pulses and nuts</td>\n",
       "      <td>1.4</td>\n",
       "      <td>USD</td>\n",
       "      <td>Zimbabwe</td>\n",
       "      <td>Bulawayo</td>\n",
       "      <td>3435</td>\n",
       "      <td>Renkini Bus Terminus</td>\n",
       "      <td>715</td>\n",
       "      <td>50</td>\n",
       "      <td>15</td>\n",
       "      <td>5</td>\n",
       "      <td>5</td>\n",
       "      <td>715_50_15_5</td>\n",
       "      <td>NaN</td>\n",
       "      <td>1.12</td>\n",
       "    </tr>\n",
       "    <tr>\n",
       "      <th>2</th>\n",
       "      <td>15/11/2014</td>\n",
       "      <td>Beans - Retail</td>\n",
       "      <td>KG</td>\n",
       "      <td>pulses and nuts</td>\n",
       "      <td>1.4</td>\n",
       "      <td>USD</td>\n",
       "      <td>Zimbabwe</td>\n",
       "      <td>Bulawayo</td>\n",
       "      <td>3435</td>\n",
       "      <td>Renkini Bus Terminus</td>\n",
       "      <td>715</td>\n",
       "      <td>50</td>\n",
       "      <td>15</td>\n",
       "      <td>5</td>\n",
       "      <td>5</td>\n",
       "      <td>715_50_15_5</td>\n",
       "      <td>NaN</td>\n",
       "      <td>1.12</td>\n",
       "    </tr>\n",
       "    <tr>\n",
       "      <th>3</th>\n",
       "      <td>15/12/2014</td>\n",
       "      <td>Beans - Retail</td>\n",
       "      <td>KG</td>\n",
       "      <td>pulses and nuts</td>\n",
       "      <td>1.4</td>\n",
       "      <td>USD</td>\n",
       "      <td>Zimbabwe</td>\n",
       "      <td>Bulawayo</td>\n",
       "      <td>3435</td>\n",
       "      <td>Renkini Bus Terminus</td>\n",
       "      <td>715</td>\n",
       "      <td>50</td>\n",
       "      <td>15</td>\n",
       "      <td>5</td>\n",
       "      <td>5</td>\n",
       "      <td>715_50_15_5</td>\n",
       "      <td>NaN</td>\n",
       "      <td>1.12</td>\n",
       "    </tr>\n",
       "    <tr>\n",
       "      <th>4</th>\n",
       "      <td>15/2/2015</td>\n",
       "      <td>Beans - Retail</td>\n",
       "      <td>KG</td>\n",
       "      <td>pulses and nuts</td>\n",
       "      <td>1.4</td>\n",
       "      <td>USD</td>\n",
       "      <td>Zimbabwe</td>\n",
       "      <td>Bulawayo</td>\n",
       "      <td>3435</td>\n",
       "      <td>Renkini Bus Terminus</td>\n",
       "      <td>715</td>\n",
       "      <td>50</td>\n",
       "      <td>15</td>\n",
       "      <td>5</td>\n",
       "      <td>5</td>\n",
       "      <td>715_50_15_5</td>\n",
       "      <td>NaN</td>\n",
       "      <td>1.12</td>\n",
       "    </tr>\n",
       "  </tbody>\n",
       "</table>\n",
       "</div>"
      ],
      "text/plain": [
       "         date          cmname unit         category  price currency   country  \\\n",
       "0   15/9/2014  Beans - Retail   KG  pulses and nuts    1.4      USD  Zimbabwe   \n",
       "1  15/10/2014  Beans - Retail   KG  pulses and nuts    1.4      USD  Zimbabwe   \n",
       "2  15/11/2014  Beans - Retail   KG  pulses and nuts    1.4      USD  Zimbabwe   \n",
       "3  15/12/2014  Beans - Retail   KG  pulses and nuts    1.4      USD  Zimbabwe   \n",
       "4   15/2/2015  Beans - Retail   KG  pulses and nuts    1.4      USD  Zimbabwe   \n",
       "\n",
       "    admname  adm1id               mktname  mktid  cmid  ptid  umid  catid  \\\n",
       "0  Bulawayo    3435  Renkini Bus Terminus    715    50    15     5      5   \n",
       "1  Bulawayo    3435  Renkini Bus Terminus    715    50    15     5      5   \n",
       "2  Bulawayo    3435  Renkini Bus Terminus    715    50    15     5      5   \n",
       "3  Bulawayo    3435  Renkini Bus Terminus    715    50    15     5      5   \n",
       "4  Bulawayo    3435  Renkini Bus Terminus    715    50    15     5      5   \n",
       "\n",
       "            sn  default  Discounted  \n",
       "0  715_50_15_5      NaN        1.12  \n",
       "1  715_50_15_5      NaN        1.12  \n",
       "2  715_50_15_5      NaN        1.12  \n",
       "3  715_50_15_5      NaN        1.12  \n",
       "4  715_50_15_5      NaN        1.12  "
      ]
     },
     "execution_count": 30,
     "metadata": {},
     "output_type": "execute_result"
    }
],
   "source": [
    "df.head()"
   ]
  },
  {
   "cell_type": "markdown",
   "metadata": {},
   "source": [
    "## Basic Aggregation"
   ]
  }
: 32,
   "metadata": {}
: [
    {
     "data": {
      "text/plain": [
       "admname\n",
       "Bulawayo               237.7601\n",
       "Harare                 247.0082\n",
       "Manicaland             211.3893\n",
       "Mashonaland Central    475.4809\n",
       "Mashonaland East       365.8549\n",
       "Mashonaland West       282.1180\n",
       "Masvingo               473.8756\n",
       "Matabeleland North     802.9554\n",
       "Matabeleland South     873.3215\n",
       "Midlands               302.7057\n",
       "Name: price, dtype: float64"
      ]
     },
     "execution_count": 32,
     "metadata": {},
     "output_type": "execute_result"
    }
],
   "source": [
    "df.groupby('admname')['price'].sum()"
   ]
  },
  {
   "cell_type": "code",
   "execution_count": 36,
   "metadata": {},
   "outputs": [
    {
     "data": {
      "text/plain": [
       "<AxesSubplot:title={'center':'Sum Prices by Region'}, xlabel='Region', ylabel='Total Price'>"
      ]
     },
     "execution_count": 36,
     "metadata": {},
     "output_type": "execute_result"
    },
    {
     "data": {
      "image/png": "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\n",
      "text/plain": [
       "<Figure size 432x288 with 1 Axes>"
      ]
     },
     "metadata": {
      "needs_background": "light"
     },
     "output_type": "display_data"
    }
   ],
   "source": [
    "dfsum=df.groupby('admname')['price'].sum()\n",
    "dfsum.plot(kind='bar',title='Sum Prices by Region',xlabel='Region',ylabel='Total Price')"
   ]
  }
: 39,
   "metadata": {}
: [
    {
     "data": {
      "text/plain": [
       "<AxesSubplot:title={'center':'Sum Prices by Region'}, ylabel='Region'>"
      ]
     },
     "execution_count": 39,
     "metadata": {},
     "output_type": "execute_result"
    }
: [
       "<Figure size 432x288 with 1 Axes>"
      ]
     },
     "metadata": {
      "needs_background": "light"
     }
],
   "source": [
    "dfsum=df.groupby('admname')['price'].sum()\n",
    "dfsum.plot(kind='barh',title='Sum Prices by Region',xlabel='Region',ylabel='Total Price',color='red')"
   ]
  },
  {
   "cell_type": "code",
   "execution_count": 40,
   "metadata": {},
   "outputs": [
    {
     "data": {
      "text/html": [
       "<div>\n",
       "<style scoped>\n",
       "    .dataframe tbody tr th:only-of-type {\n",
       "        vertical-align: middle;\n",
       "    }\n",
       "\n",
       "    .dataframe tbody tr th {\n",
       "        vertical-align: top;\n",
       "    }\n",
       "\n",
       "    .dataframe thead th {\n",
       "        text-align: right;\n",
       "    }\n",
       "</style>\n",
       "<table border=\"1\" class=\"dataframe\">\n",
       "  <thead>\n",
       "    <tr style=\"text-align: right;\">\n",
       "      <th></th>\n",
       "      <th>sum</th>\n",
       "      <th>mean</th>\n",
       "      <th>count</th>\n",
       "    </tr>\n",
       "    <tr>\n",
       "      <th>date</th>\n",
       "      <th></th>\n",
       "      <th></th>\n",
       "      <th></th>\n",
       "    </tr>\n",
       "  </thead>\n",
       "  <tbody>\n",
       "    <tr>\n",
       "      <th>15/1/2010</th>\n",
       "      <td>5.0572</td>\n",
       "      <td>0.297482</td>\n",
       "      <td>17</td>\n",
       "    </tr>\n",
       "    <tr>\n",
       "      <th>15/1/2011</th>\n",
       "      <td>5.4858</td>\n",
       "      <td>0.304767</td>\n",
       "      <td>18</td>\n",
       "    </tr>\n",
       "    <tr>\n",
       "      <th>15/1/2012</th>\n",
       "      <td>8.4700</td>\n",
       "      <td>0.403333</td>\n",
       "      <td>21</td>\n",
       "    </tr>\n",
       "    <tr>\n",
       "      <th>15/1/2013</th>\n",
       "      <td>8.8700</td>\n",
       "      <td>0.385652</td>\n",
       "      <td>23</td>\n",
       "    </tr>\n",
       "    <tr>\n",
       "      <th>15/1/2014</th>\n",
       "      <td>10.8700</td>\n",
       "      <td>0.494091</td>\n",
       "      <td>22</td>\n",
       "    </tr>\n",
       "    <tr>\n",
       "      <th>...</th>\n",
       "      <td>...</td>\n",
       "      <td>...</td>\n",
       "      <td>...</td>\n",
       "    </tr>\n",
       "    <tr>\n",
       "      <th>15/9/2014</th>\n",
       "      <td>42.0700</td>\n",
       "      <td>1.137027</td>\n",
       "      <td>37</td>\n",
       "    </tr>\n",
       "    <tr>\n",
       "      <th>15/9/2015</th>\n",
       "      <td>29.0400</td>\n",
       "      <td>0.968000</td>\n",
       "      <td>30</td>\n",
       "    </tr>\n",
       "    <tr>\n",
       "      <th>15/9/2016</th>\n",
       "      <td>36.5100</td>\n",
       "      <td>1.106364</td>\n",
       "      <td>33</td>\n",
       "    </tr>\n",
       "    <tr>\n",
       "      <th>15/9/2017</th>\n",
       "      <td>216.4400</td>\n",
       "      <td>1.627368</td>\n",
       "      <td>133</td>\n",
       "    </tr>\n",
       "    <tr>\n",
       "      <th>15/9/2018</th>\n",
       "      <td>73.4400</td>\n",
       "      <td>1.360000</td>\n",
       "      <td>54</td>\n",
       "    </tr>\n",
       "  </tbody>\n",
       "</table>\n",
       "<p>106 rows × 3 columns</p>\n",
       "</div>"
      ],
      "text/plain": [
       "                sum      mean  count\n",
       "date                                \n",
       "15/1/2010    5.0572  0.297482     17\n",
       "15/1/2011    5.4858  0.304767     18\n",
       "15/1/2012    8.4700  0.403333     21\n",
       "15/1/2013    8.8700  0.385652     23\n",
       "15/1/2014   10.8700  0.494091     22\n",
       "...             ...       ...    ...\n",
       "15/9/2014   42.0700  1.137027     37\n",
       "15/9/2015   29.0400  0.968000     30\n",
       "15/9/2016   36.5100  1.106364     33\n",
       "15/9/2017  216.4400  1.627368    133\n",
       "15/9/2018   73.4400  1.360000     54\n",
       "\n",
       "[106 rows x 3 columns]"
      ]
     },
     "execution_count": 40,
     "metadata": {},
     "output_type": "execute_result"
    }
   ],
   "source": [
    "df.groupby('date')['price'].agg(['sum','mean','count'])"
   ]
  }
: 46,
   "metadata": {}
: [
    {
     "data": {
      "text/plain": [
       "<AxesSubplot:title={'center':'Line Graph'}, xlabel='Date of Transaction'>"
      ]
     },
     "execution_count": 46,
     "metadata": {},
     "output_type": "execute_result"
    }
: [
       "<Figure size 432x288 with 1 Axes>"
      ]
     },
     "metadata": {
      "needs_background": "light"
     }
],
   "source": [
    "dflineplot=df.groupby('date')['price'].agg(['sum','mean','count'])\n",
    "dflineplot.plot(kind='line',title='Line Graph',xlabel='Date of Transaction')"
   ]
  },
  {
   "cell_type": "code",
   "execution_count": 48,
   "metadata": {},
   "outputs": [
    {
     "data": {
      "text/plain": [
       "category            cmname                                  \n",
       "cereals and tubers  Maize (yellow, biofortified) - Retail          1.9600\n",
       "                    Maize - Retail                               537.7146\n",
       "                    Maize flour (white) - Retail                   2.5500\n",
       "                    Maize meal (white, first grade) - Retail       2.8900\n",
       "                    Maize meal (white, fortified) - Retail        35.5400\n",
       "                    Maize meal (white, roller) - Retail          344.8200\n",
       "                    Millet (biofortified) - Retail                 4.4900\n",
       "                    Millet - Retail                               66.4900\n",
       "                    Sorghum (biofortified) - Retail                1.0000\n",
       "                    Sorghum - Retail                             118.9500\n",
       "                    Wheat - Retail                                32.7200\n",
       "                    Wheat flour (fortified) - Retail             100.7600\n",
       "miscellaneous food  Sugar (white, fortified) - Retail            130.3400\n",
       "oil and fats        Oil (vegetable) - Retail                    1043.0150\n",
       "                    Oil (vegetable, fortified) - Retail          327.5300\n",
       "pulses and nuts     Beans (sugar, biofortified) - Retail          81.9800\n",
       "                    Beans - Retail                              1147.1400\n",
       "                    Cowpeas - Retail                              83.5700\n",
       "                    Groundnuts (shelled) - Retail                204.8700\n",
       "                    Soybeans - Retail                              4.1400\n",
       "Name: price, dtype: float64"
      ]
     },
     "execution_count": 48,
     "metadata": {},
     "output_type": "execute_result"
    }
   ],
   "source": [
    "df.groupby(['category','cmname'])['price'].sum()"
   ]
  }
: null,
   "metadata": {}
: [],
   "source": []
  }
 ],
 "metadata": {
  "kernelspec": {
   "display_name": "Python 3",
   "language": "python",
   "name": "python3"
  },
  "language_info": {
   "codemirror_mode": {
    "name": "ipython",
    "version": 3
   },
   "file_extension": ".py",
   "mimetype": "text/x-python",
   "name": "python",
   "nbconvert_exporter": "python",
   "pygments_lexer": "ipython3",
   "version": "3.8.5"
  }
 }
: 4,
 "nbformat_minor": 4
}


 /* Font Definitions */
 @font-face
	{font-family:"Cambria Math";
	panose-1:2 4 5 3 5 4 6 3 2 4;
	mso-font-charset:0;
	mso-generic-font-family:roman;
	mso-font-pitch:variable;
	mso-font-signature:3 0 0 0 1 0;}
 /* Style Definitions */
 p.MsoNormal, li.MsoNormal, div.MsoNormal
	{mso-style-unhide:no;
	mso-style-qformat:yes;
	mso-style-parent:"";
	margin:0cm;
	mso-pagination:widow-orphan;
	font-size:12.0pt;
	font-family:"Times New Roman",serif;
	mso-fareast-font-family:"Times New Roman";
	mso-fareast-theme-font:minor-fareast;}
a:link, span.MsoHyperlink
	{mso-style-priority:99;
	color:#0563C1;
	mso-themecolor:hyperlink;
	text-decoration:underline;
	text-underline:single;}
a:visited, span.MsoHyperlinkFollowed
	{mso-style-noshow:yes;
	mso-style-priority:99;
	color:#954F72;
	mso-themecolor:followedhyperlink;
	text-decoration:underline;
	text-underline:single;}
p.msonormal0, li.msonormal0, div.msonormal0
	{mso-style-name:msonormal;
	mso-style-unhide:no;
	mso-margin-top-alt:auto;
	margin-right:0cm;
	mso-margin-bottom-alt:auto;
	margin-left:0cm;
	mso-pagination:widow-orphan;
	font-size:12.0pt;
	font-family:"Times New Roman",serif;
	mso-fareast-font-family:"Times New Roman";
	mso-fareast-theme-font:minor-fareast;}
.MsoChpDefault
	{mso-style-type:export-only;
	mso-default-props:yes;
	font-size:10.0pt;
	mso-ansi-font-size:10.0pt;
	mso-bidi-font-size:10.0pt;}
@page WordSection1
	{size:595.3pt 841.9pt;
	margin:72.0pt 72.0pt 72.0pt 72.0pt;
	mso-header-margin:35.4pt;
	mso-footer-margin:35.4pt;
	mso-paper-source:0;}
div.WordSection1
	{page:WordSection1;}
-->
</style>
<!--[if gte mso 10]>
<style>
 /* Style Definitions */
 table.MsoNormalTable
	{mso-style-name:"Table Normal";
	mso-tstyle-rowband-size:0;
	mso-tstyle-colband-size:0;
	mso-style-noshow:yes;
	mso-style-priority:99;
	mso-style-parent:"";
	mso-padding-alt:0cm 5.4pt 0cm 5.4pt;
	mso-para-margin:0cm;
	mso-pagination:widow-orphan;
	font-size:10.0pt;
	font-family:"Times New Roman",serif;}
</style>
<![endif]--><!--[if gte mso 9]><xml>
 <o:shapedefaults v:ext="edit" spidmax="1026"/>
</xml><![endif]--><!--[if gte mso 9]><xml>
 <o:shapelayout v:ext="edit">
  <o:idmap v:ext="edit" data="1"/>
 </o:shapelayout></xml><![endif]-->
</head>

<body lang=EN-ZW link="#0563C1" vlink="#954F72" style='tab-interval:36.0pt;
word-wrap:break-word'>

<div class=WordSection1>

<div>

<p class=MsoNormal><span lang=EN-US style='mso-fareast-font-family:"Times New Roman";
mso-ansi-language:EN-US'><a href="http://relay.uz.ac.zw/">http://relay.uz.ac.zw/</a>
<o:p></o:p></span></p>

</div>

</div>

</body>

</html>
